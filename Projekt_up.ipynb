{
  "nbformat": 4,
  "nbformat_minor": 0,
  "metadata": {
    "colab": {
      "name": "Untitled3.ipynb",
      "provenance": [],
      "collapsed_sections": [],
      "authorship_tag": "ABX9TyPvNYsCNVWpNGG/VydNo0pC",
      "include_colab_link": true
    },
    "kernelspec": {
      "name": "python3",
      "display_name": "Python 3"
    },
    "language_info": {
      "name": "python"
    }
  },
  "cells": [
    {
      "cell_type": "markdown",
      "metadata": {
        "id": "view-in-github",
        "colab_type": "text"
      },
      "source": [
        "<a href=\"https://colab.research.google.com/github/Longownica/io-projekt/blob/do-wyslania/Projekt_up.ipynb\" target=\"_parent\"><img src=\"https://colab.research.google.com/assets/colab-badge.svg\" alt=\"Open In Colab\"/></a>"
      ]
    },
    {
      "cell_type": "markdown",
      "source": [
        "# Predykcja jakości wina rodzaju Vinho Verde (port.)\n",
        "\n",
        "Zbiór danych zawiera informacje o zawartości różnych związków chemicznych zawartych w winie i ich wpływie na jego ogólną jakość.\n",
        "\n",
        "Zgodnie z opisem na [stronie](https://www.kaggle.com/datasets/yasserh/wine-quality-dataset) kolumny oznaczają następujące:\n",
        "\n",
        "*   1 - fixed acidity - kwasowość stała\n",
        "*   2 - volatile acidity - kwasowość lotna\n",
        "*   3 - citric acid - kwas cytrynowy \n",
        "*   4 - residual sugar - cukier resztkowy \n",
        "*   5 - chlorides - chlorki\n",
        "*   6 - free sulfur dioxide - wolny dwutlenek siarki\n",
        "*   7 - total sulfur dioxide - całkowity dwutlenek siarki\n",
        "*   8 - density - gęstość\n",
        "*   9 - pH - wartość na skali pH\n",
        "*   10 - sulphates - siarczany\n",
        "*   11 - alcohol - zawartość alkoholu\n",
        "\n",
        "Output:\n",
        "*   12 - quality - jakość (wartość pomiędzy 0 i 10)\n",
        "\n",
        "\n",
        "\n",
        "\n",
        "\n",
        "\n",
        "\n",
        "\n",
        "\n",
        "\n",
        "\n",
        "\n",
        "\n"
      ],
      "metadata": {
        "id": "AHINXntfQznt"
      }
    },
    {
      "cell_type": "markdown",
      "source": [
        "# Przetwarzanie danych:"
      ],
      "metadata": {
        "id": "TgSqOOsejs_V"
      }
    },
    {
      "cell_type": "code",
      "execution_count": null,
      "metadata": {
        "colab": {
          "resources": {
            "http://localhost:8080/nbextensions/google.colab/files.js": {
              "data": "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",
              "ok": true,
              "headers": [
                [
                  "content-type",
                  "application/javascript"
                ]
              ],
              "status": 200,
              "status_text": "OK"
            }
          },
          "base_uri": "https://localhost:8080/",
          "height": 110
        },
        "id": "wF8f1El4PkEj",
        "outputId": "50ae864e-0fc9-4782-df7b-e952eeaa2c15"
      },
      "outputs": [
        {
          "output_type": "stream",
          "name": "stderr",
          "text": [
            "/usr/local/lib/python3.7/dist-packages/statsmodels/tools/_testing.py:19: FutureWarning: pandas.util.testing is deprecated. Use the functions in the public API at pandas.testing instead.\n",
            "  import pandas.util.testing as tm\n"
          ]
        },
        {
          "output_type": "display_data",
          "data": {
            "text/plain": [
              "<IPython.core.display.HTML object>"
            ],
            "text/html": [
              "\n",
              "     <input type=\"file\" id=\"files-1a9e01c3-90d4-4744-9762-e8b5121884a9\" name=\"files[]\" multiple disabled\n",
              "        style=\"border:none\" />\n",
              "     <output id=\"result-1a9e01c3-90d4-4744-9762-e8b5121884a9\">\n",
              "      Upload widget is only available when the cell has been executed in the\n",
              "      current browser session. Please rerun this cell to enable.\n",
              "      </output>\n",
              "      <script src=\"/nbextensions/google.colab/files.js\"></script> "
            ]
          },
          "metadata": {}
        },
        {
          "output_type": "stream",
          "name": "stdout",
          "text": [
            "Saving WineQT.csv to WineQT (9).csv\n"
          ]
        }
      ],
      "source": [
        "import numpy as np\n",
        "import pandas as pd\n",
        "import matplotlib.pyplot as plt\n",
        "import statsmodels.api as sm\n",
        "import random\n",
        "import seaborn as sns\n",
        "\n",
        "from google.colab import files\n",
        "uploaded = files.upload()\n",
        "plt.style.use('ggplot')"
      ]
    },
    {
      "cell_type": "code",
      "source": [
        "data = pd.read_csv('WineQT.csv', index_col=0)\n",
        "data.drop(\"Id\",axis=1,inplace=True)\n",
        "data.head(10)"
      ],
      "metadata": {
        "id": "y9tWN0DBUmgU",
        "colab": {
          "base_uri": "https://localhost:8080/",
          "height": 394
        },
        "outputId": "c0268b51-ea77-475a-e7c5-4455988f136f"
      },
      "execution_count": null,
      "outputs": [
        {
          "output_type": "execute_result",
          "data": {
            "text/plain": [
              "               volatile acidity  citric acid  residual sugar  chlorides  \\\n",
              "fixed acidity                                                             \n",
              "7.4                        0.70         0.00             1.9      0.076   \n",
              "7.8                        0.88         0.00             2.6      0.098   \n",
              "7.8                        0.76         0.04             2.3      0.092   \n",
              "11.2                       0.28         0.56             1.9      0.075   \n",
              "7.4                        0.70         0.00             1.9      0.076   \n",
              "7.4                        0.66         0.00             1.8      0.075   \n",
              "7.9                        0.60         0.06             1.6      0.069   \n",
              "7.3                        0.65         0.00             1.2      0.065   \n",
              "7.8                        0.58         0.02             2.0      0.073   \n",
              "6.7                        0.58         0.08             1.8      0.097   \n",
              "\n",
              "               free sulfur dioxide  total sulfur dioxide  density    pH  \\\n",
              "fixed acidity                                                             \n",
              "7.4                           11.0                  34.0   0.9978  3.51   \n",
              "7.8                           25.0                  67.0   0.9968  3.20   \n",
              "7.8                           15.0                  54.0   0.9970  3.26   \n",
              "11.2                          17.0                  60.0   0.9980  3.16   \n",
              "7.4                           11.0                  34.0   0.9978  3.51   \n",
              "7.4                           13.0                  40.0   0.9978  3.51   \n",
              "7.9                           15.0                  59.0   0.9964  3.30   \n",
              "7.3                           15.0                  21.0   0.9946  3.39   \n",
              "7.8                            9.0                  18.0   0.9968  3.36   \n",
              "6.7                           15.0                  65.0   0.9959  3.28   \n",
              "\n",
              "               sulphates  alcohol  quality  \n",
              "fixed acidity                               \n",
              "7.4                 0.56      9.4        5  \n",
              "7.8                 0.68      9.8        5  \n",
              "7.8                 0.65      9.8        5  \n",
              "11.2                0.58      9.8        6  \n",
              "7.4                 0.56      9.4        5  \n",
              "7.4                 0.56      9.4        5  \n",
              "7.9                 0.46      9.4        5  \n",
              "7.3                 0.47     10.0        7  \n",
              "7.8                 0.57      9.5        7  \n",
              "6.7                 0.54      9.2        5  "
            ],
            "text/html": [
              "\n",
              "  <div id=\"df-2c193a4a-4932-4e8a-b8dd-ade94034fb1a\">\n",
              "    <div class=\"colab-df-container\">\n",
              "      <div>\n",
              "<style scoped>\n",
              "    .dataframe tbody tr th:only-of-type {\n",
              "        vertical-align: middle;\n",
              "    }\n",
              "\n",
              "    .dataframe tbody tr th {\n",
              "        vertical-align: top;\n",
              "    }\n",
              "\n",
              "    .dataframe thead th {\n",
              "        text-align: right;\n",
              "    }\n",
              "</style>\n",
              "<table border=\"1\" class=\"dataframe\">\n",
              "  <thead>\n",
              "    <tr style=\"text-align: right;\">\n",
              "      <th></th>\n",
              "      <th>volatile acidity</th>\n",
              "      <th>citric acid</th>\n",
              "      <th>residual sugar</th>\n",
              "      <th>chlorides</th>\n",
              "      <th>free sulfur dioxide</th>\n",
              "      <th>total sulfur dioxide</th>\n",
              "      <th>density</th>\n",
              "      <th>pH</th>\n",
              "      <th>sulphates</th>\n",
              "      <th>alcohol</th>\n",
              "      <th>quality</th>\n",
              "    </tr>\n",
              "    <tr>\n",
              "      <th>fixed acidity</th>\n",
              "      <th></th>\n",
              "      <th></th>\n",
              "      <th></th>\n",
              "      <th></th>\n",
              "      <th></th>\n",
              "      <th></th>\n",
              "      <th></th>\n",
              "      <th></th>\n",
              "      <th></th>\n",
              "      <th></th>\n",
              "      <th></th>\n",
              "    </tr>\n",
              "  </thead>\n",
              "  <tbody>\n",
              "    <tr>\n",
              "      <th>7.4</th>\n",
              "      <td>0.70</td>\n",
              "      <td>0.00</td>\n",
              "      <td>1.9</td>\n",
              "      <td>0.076</td>\n",
              "      <td>11.0</td>\n",
              "      <td>34.0</td>\n",
              "      <td>0.9978</td>\n",
              "      <td>3.51</td>\n",
              "      <td>0.56</td>\n",
              "      <td>9.4</td>\n",
              "      <td>5</td>\n",
              "    </tr>\n",
              "    <tr>\n",
              "      <th>7.8</th>\n",
              "      <td>0.88</td>\n",
              "      <td>0.00</td>\n",
              "      <td>2.6</td>\n",
              "      <td>0.098</td>\n",
              "      <td>25.0</td>\n",
              "      <td>67.0</td>\n",
              "      <td>0.9968</td>\n",
              "      <td>3.20</td>\n",
              "      <td>0.68</td>\n",
              "      <td>9.8</td>\n",
              "      <td>5</td>\n",
              "    </tr>\n",
              "    <tr>\n",
              "      <th>7.8</th>\n",
              "      <td>0.76</td>\n",
              "      <td>0.04</td>\n",
              "      <td>2.3</td>\n",
              "      <td>0.092</td>\n",
              "      <td>15.0</td>\n",
              "      <td>54.0</td>\n",
              "      <td>0.9970</td>\n",
              "      <td>3.26</td>\n",
              "      <td>0.65</td>\n",
              "      <td>9.8</td>\n",
              "      <td>5</td>\n",
              "    </tr>\n",
              "    <tr>\n",
              "      <th>11.2</th>\n",
              "      <td>0.28</td>\n",
              "      <td>0.56</td>\n",
              "      <td>1.9</td>\n",
              "      <td>0.075</td>\n",
              "      <td>17.0</td>\n",
              "      <td>60.0</td>\n",
              "      <td>0.9980</td>\n",
              "      <td>3.16</td>\n",
              "      <td>0.58</td>\n",
              "      <td>9.8</td>\n",
              "      <td>6</td>\n",
              "    </tr>\n",
              "    <tr>\n",
              "      <th>7.4</th>\n",
              "      <td>0.70</td>\n",
              "      <td>0.00</td>\n",
              "      <td>1.9</td>\n",
              "      <td>0.076</td>\n",
              "      <td>11.0</td>\n",
              "      <td>34.0</td>\n",
              "      <td>0.9978</td>\n",
              "      <td>3.51</td>\n",
              "      <td>0.56</td>\n",
              "      <td>9.4</td>\n",
              "      <td>5</td>\n",
              "    </tr>\n",
              "    <tr>\n",
              "      <th>7.4</th>\n",
              "      <td>0.66</td>\n",
              "      <td>0.00</td>\n",
              "      <td>1.8</td>\n",
              "      <td>0.075</td>\n",
              "      <td>13.0</td>\n",
              "      <td>40.0</td>\n",
              "      <td>0.9978</td>\n",
              "      <td>3.51</td>\n",
              "      <td>0.56</td>\n",
              "      <td>9.4</td>\n",
              "      <td>5</td>\n",
              "    </tr>\n",
              "    <tr>\n",
              "      <th>7.9</th>\n",
              "      <td>0.60</td>\n",
              "      <td>0.06</td>\n",
              "      <td>1.6</td>\n",
              "      <td>0.069</td>\n",
              "      <td>15.0</td>\n",
              "      <td>59.0</td>\n",
              "      <td>0.9964</td>\n",
              "      <td>3.30</td>\n",
              "      <td>0.46</td>\n",
              "      <td>9.4</td>\n",
              "      <td>5</td>\n",
              "    </tr>\n",
              "    <tr>\n",
              "      <th>7.3</th>\n",
              "      <td>0.65</td>\n",
              "      <td>0.00</td>\n",
              "      <td>1.2</td>\n",
              "      <td>0.065</td>\n",
              "      <td>15.0</td>\n",
              "      <td>21.0</td>\n",
              "      <td>0.9946</td>\n",
              "      <td>3.39</td>\n",
              "      <td>0.47</td>\n",
              "      <td>10.0</td>\n",
              "      <td>7</td>\n",
              "    </tr>\n",
              "    <tr>\n",
              "      <th>7.8</th>\n",
              "      <td>0.58</td>\n",
              "      <td>0.02</td>\n",
              "      <td>2.0</td>\n",
              "      <td>0.073</td>\n",
              "      <td>9.0</td>\n",
              "      <td>18.0</td>\n",
              "      <td>0.9968</td>\n",
              "      <td>3.36</td>\n",
              "      <td>0.57</td>\n",
              "      <td>9.5</td>\n",
              "      <td>7</td>\n",
              "    </tr>\n",
              "    <tr>\n",
              "      <th>6.7</th>\n",
              "      <td>0.58</td>\n",
              "      <td>0.08</td>\n",
              "      <td>1.8</td>\n",
              "      <td>0.097</td>\n",
              "      <td>15.0</td>\n",
              "      <td>65.0</td>\n",
              "      <td>0.9959</td>\n",
              "      <td>3.28</td>\n",
              "      <td>0.54</td>\n",
              "      <td>9.2</td>\n",
              "      <td>5</td>\n",
              "    </tr>\n",
              "  </tbody>\n",
              "</table>\n",
              "</div>\n",
              "      <button class=\"colab-df-convert\" onclick=\"convertToInteractive('df-2c193a4a-4932-4e8a-b8dd-ade94034fb1a')\"\n",
              "              title=\"Convert this dataframe to an interactive table.\"\n",
              "              style=\"display:none;\">\n",
              "        \n",
              "  <svg xmlns=\"http://www.w3.org/2000/svg\" height=\"24px\"viewBox=\"0 0 24 24\"\n",
              "       width=\"24px\">\n",
              "    <path d=\"M0 0h24v24H0V0z\" fill=\"none\"/>\n",
              "    <path d=\"M18.56 5.44l.94 2.06.94-2.06 2.06-.94-2.06-.94-.94-2.06-.94 2.06-2.06.94zm-11 1L8.5 8.5l.94-2.06 2.06-.94-2.06-.94L8.5 2.5l-.94 2.06-2.06.94zm10 10l.94 2.06.94-2.06 2.06-.94-2.06-.94-.94-2.06-.94 2.06-2.06.94z\"/><path d=\"M17.41 7.96l-1.37-1.37c-.4-.4-.92-.59-1.43-.59-.52 0-1.04.2-1.43.59L10.3 9.45l-7.72 7.72c-.78.78-.78 2.05 0 2.83L4 21.41c.39.39.9.59 1.41.59.51 0 1.02-.2 1.41-.59l7.78-7.78 2.81-2.81c.8-.78.8-2.07 0-2.86zM5.41 20L4 18.59l7.72-7.72 1.47 1.35L5.41 20z\"/>\n",
              "  </svg>\n",
              "      </button>\n",
              "      \n",
              "  <style>\n",
              "    .colab-df-container {\n",
              "      display:flex;\n",
              "      flex-wrap:wrap;\n",
              "      gap: 12px;\n",
              "    }\n",
              "\n",
              "    .colab-df-convert {\n",
              "      background-color: #E8F0FE;\n",
              "      border: none;\n",
              "      border-radius: 50%;\n",
              "      cursor: pointer;\n",
              "      display: none;\n",
              "      fill: #1967D2;\n",
              "      height: 32px;\n",
              "      padding: 0 0 0 0;\n",
              "      width: 32px;\n",
              "    }\n",
              "\n",
              "    .colab-df-convert:hover {\n",
              "      background-color: #E2EBFA;\n",
              "      box-shadow: 0px 1px 2px rgba(60, 64, 67, 0.3), 0px 1px 3px 1px rgba(60, 64, 67, 0.15);\n",
              "      fill: #174EA6;\n",
              "    }\n",
              "\n",
              "    [theme=dark] .colab-df-convert {\n",
              "      background-color: #3B4455;\n",
              "      fill: #D2E3FC;\n",
              "    }\n",
              "\n",
              "    [theme=dark] .colab-df-convert:hover {\n",
              "      background-color: #434B5C;\n",
              "      box-shadow: 0px 1px 3px 1px rgba(0, 0, 0, 0.15);\n",
              "      filter: drop-shadow(0px 1px 2px rgba(0, 0, 0, 0.3));\n",
              "      fill: #FFFFFF;\n",
              "    }\n",
              "  </style>\n",
              "\n",
              "      <script>\n",
              "        const buttonEl =\n",
              "          document.querySelector('#df-2c193a4a-4932-4e8a-b8dd-ade94034fb1a button.colab-df-convert');\n",
              "        buttonEl.style.display =\n",
              "          google.colab.kernel.accessAllowed ? 'block' : 'none';\n",
              "\n",
              "        async function convertToInteractive(key) {\n",
              "          const element = document.querySelector('#df-2c193a4a-4932-4e8a-b8dd-ade94034fb1a');\n",
              "          const dataTable =\n",
              "            await google.colab.kernel.invokeFunction('convertToInteractive',\n",
              "                                                     [key], {});\n",
              "          if (!dataTable) return;\n",
              "\n",
              "          const docLinkHtml = 'Like what you see? Visit the ' +\n",
              "            '<a target=\"_blank\" href=https://colab.research.google.com/notebooks/data_table.ipynb>data table notebook</a>'\n",
              "            + ' to learn more about interactive tables.';\n",
              "          element.innerHTML = '';\n",
              "          dataTable['output_type'] = 'display_data';\n",
              "          await google.colab.output.renderOutput(dataTable, element);\n",
              "          const docLink = document.createElement('div');\n",
              "          docLink.innerHTML = docLinkHtml;\n",
              "          element.appendChild(docLink);\n",
              "        }\n",
              "      </script>\n",
              "    </div>\n",
              "  </div>\n",
              "  "
            ]
          },
          "metadata": {},
          "execution_count": 2
        }
      ]
    },
    {
      "cell_type": "code",
      "source": [
        "data_info= pd.DataFrame(data.dtypes)\n",
        "data_info['num_NA']= data.isna().sum()\n",
        "data_info['percentage_NA']= data.isna().mean()\n",
        "data_info.columns= ['Type', 'num_NA', 'percentage_NA']\n",
        "data_info"
      ],
      "metadata": {
        "colab": {
          "base_uri": "https://localhost:8080/",
          "height": 394
        },
        "id": "BqEucDiXnsok",
        "outputId": "1c435746-4a16-4d8f-ab54-71eb86f72424"
      },
      "execution_count": null,
      "outputs": [
        {
          "output_type": "execute_result",
          "data": {
            "text/plain": [
              "                         Type  num_NA  percentage_NA\n",
              "volatile acidity      float64       0            0.0\n",
              "citric acid           float64       0            0.0\n",
              "residual sugar        float64       0            0.0\n",
              "chlorides             float64       0            0.0\n",
              "free sulfur dioxide   float64       0            0.0\n",
              "total sulfur dioxide  float64       0            0.0\n",
              "density               float64       0            0.0\n",
              "pH                    float64       0            0.0\n",
              "sulphates             float64       0            0.0\n",
              "alcohol               float64       0            0.0\n",
              "quality                 int64       0            0.0"
            ],
            "text/html": [
              "\n",
              "  <div id=\"df-e5136203-dafd-41bb-ad35-b0c8ae02316b\">\n",
              "    <div class=\"colab-df-container\">\n",
              "      <div>\n",
              "<style scoped>\n",
              "    .dataframe tbody tr th:only-of-type {\n",
              "        vertical-align: middle;\n",
              "    }\n",
              "\n",
              "    .dataframe tbody tr th {\n",
              "        vertical-align: top;\n",
              "    }\n",
              "\n",
              "    .dataframe thead th {\n",
              "        text-align: right;\n",
              "    }\n",
              "</style>\n",
              "<table border=\"1\" class=\"dataframe\">\n",
              "  <thead>\n",
              "    <tr style=\"text-align: right;\">\n",
              "      <th></th>\n",
              "      <th>Type</th>\n",
              "      <th>num_NA</th>\n",
              "      <th>percentage_NA</th>\n",
              "    </tr>\n",
              "  </thead>\n",
              "  <tbody>\n",
              "    <tr>\n",
              "      <th>volatile acidity</th>\n",
              "      <td>float64</td>\n",
              "      <td>0</td>\n",
              "      <td>0.0</td>\n",
              "    </tr>\n",
              "    <tr>\n",
              "      <th>citric acid</th>\n",
              "      <td>float64</td>\n",
              "      <td>0</td>\n",
              "      <td>0.0</td>\n",
              "    </tr>\n",
              "    <tr>\n",
              "      <th>residual sugar</th>\n",
              "      <td>float64</td>\n",
              "      <td>0</td>\n",
              "      <td>0.0</td>\n",
              "    </tr>\n",
              "    <tr>\n",
              "      <th>chlorides</th>\n",
              "      <td>float64</td>\n",
              "      <td>0</td>\n",
              "      <td>0.0</td>\n",
              "    </tr>\n",
              "    <tr>\n",
              "      <th>free sulfur dioxide</th>\n",
              "      <td>float64</td>\n",
              "      <td>0</td>\n",
              "      <td>0.0</td>\n",
              "    </tr>\n",
              "    <tr>\n",
              "      <th>total sulfur dioxide</th>\n",
              "      <td>float64</td>\n",
              "      <td>0</td>\n",
              "      <td>0.0</td>\n",
              "    </tr>\n",
              "    <tr>\n",
              "      <th>density</th>\n",
              "      <td>float64</td>\n",
              "      <td>0</td>\n",
              "      <td>0.0</td>\n",
              "    </tr>\n",
              "    <tr>\n",
              "      <th>pH</th>\n",
              "      <td>float64</td>\n",
              "      <td>0</td>\n",
              "      <td>0.0</td>\n",
              "    </tr>\n",
              "    <tr>\n",
              "      <th>sulphates</th>\n",
              "      <td>float64</td>\n",
              "      <td>0</td>\n",
              "      <td>0.0</td>\n",
              "    </tr>\n",
              "    <tr>\n",
              "      <th>alcohol</th>\n",
              "      <td>float64</td>\n",
              "      <td>0</td>\n",
              "      <td>0.0</td>\n",
              "    </tr>\n",
              "    <tr>\n",
              "      <th>quality</th>\n",
              "      <td>int64</td>\n",
              "      <td>0</td>\n",
              "      <td>0.0</td>\n",
              "    </tr>\n",
              "  </tbody>\n",
              "</table>\n",
              "</div>\n",
              "      <button class=\"colab-df-convert\" onclick=\"convertToInteractive('df-e5136203-dafd-41bb-ad35-b0c8ae02316b')\"\n",
              "              title=\"Convert this dataframe to an interactive table.\"\n",
              "              style=\"display:none;\">\n",
              "        \n",
              "  <svg xmlns=\"http://www.w3.org/2000/svg\" height=\"24px\"viewBox=\"0 0 24 24\"\n",
              "       width=\"24px\">\n",
              "    <path d=\"M0 0h24v24H0V0z\" fill=\"none\"/>\n",
              "    <path d=\"M18.56 5.44l.94 2.06.94-2.06 2.06-.94-2.06-.94-.94-2.06-.94 2.06-2.06.94zm-11 1L8.5 8.5l.94-2.06 2.06-.94-2.06-.94L8.5 2.5l-.94 2.06-2.06.94zm10 10l.94 2.06.94-2.06 2.06-.94-2.06-.94-.94-2.06-.94 2.06-2.06.94z\"/><path d=\"M17.41 7.96l-1.37-1.37c-.4-.4-.92-.59-1.43-.59-.52 0-1.04.2-1.43.59L10.3 9.45l-7.72 7.72c-.78.78-.78 2.05 0 2.83L4 21.41c.39.39.9.59 1.41.59.51 0 1.02-.2 1.41-.59l7.78-7.78 2.81-2.81c.8-.78.8-2.07 0-2.86zM5.41 20L4 18.59l7.72-7.72 1.47 1.35L5.41 20z\"/>\n",
              "  </svg>\n",
              "      </button>\n",
              "      \n",
              "  <style>\n",
              "    .colab-df-container {\n",
              "      display:flex;\n",
              "      flex-wrap:wrap;\n",
              "      gap: 12px;\n",
              "    }\n",
              "\n",
              "    .colab-df-convert {\n",
              "      background-color: #E8F0FE;\n",
              "      border: none;\n",
              "      border-radius: 50%;\n",
              "      cursor: pointer;\n",
              "      display: none;\n",
              "      fill: #1967D2;\n",
              "      height: 32px;\n",
              "      padding: 0 0 0 0;\n",
              "      width: 32px;\n",
              "    }\n",
              "\n",
              "    .colab-df-convert:hover {\n",
              "      background-color: #E2EBFA;\n",
              "      box-shadow: 0px 1px 2px rgba(60, 64, 67, 0.3), 0px 1px 3px 1px rgba(60, 64, 67, 0.15);\n",
              "      fill: #174EA6;\n",
              "    }\n",
              "\n",
              "    [theme=dark] .colab-df-convert {\n",
              "      background-color: #3B4455;\n",
              "      fill: #D2E3FC;\n",
              "    }\n",
              "\n",
              "    [theme=dark] .colab-df-convert:hover {\n",
              "      background-color: #434B5C;\n",
              "      box-shadow: 0px 1px 3px 1px rgba(0, 0, 0, 0.15);\n",
              "      filter: drop-shadow(0px 1px 2px rgba(0, 0, 0, 0.3));\n",
              "      fill: #FFFFFF;\n",
              "    }\n",
              "  </style>\n",
              "\n",
              "      <script>\n",
              "        const buttonEl =\n",
              "          document.querySelector('#df-e5136203-dafd-41bb-ad35-b0c8ae02316b button.colab-df-convert');\n",
              "        buttonEl.style.display =\n",
              "          google.colab.kernel.accessAllowed ? 'block' : 'none';\n",
              "\n",
              "        async function convertToInteractive(key) {\n",
              "          const element = document.querySelector('#df-e5136203-dafd-41bb-ad35-b0c8ae02316b');\n",
              "          const dataTable =\n",
              "            await google.colab.kernel.invokeFunction('convertToInteractive',\n",
              "                                                     [key], {});\n",
              "          if (!dataTable) return;\n",
              "\n",
              "          const docLinkHtml = 'Like what you see? Visit the ' +\n",
              "            '<a target=\"_blank\" href=https://colab.research.google.com/notebooks/data_table.ipynb>data table notebook</a>'\n",
              "            + ' to learn more about interactive tables.';\n",
              "          element.innerHTML = '';\n",
              "          dataTable['output_type'] = 'display_data';\n",
              "          await google.colab.output.renderOutput(dataTable, element);\n",
              "          const docLink = document.createElement('div');\n",
              "          docLink.innerHTML = docLinkHtml;\n",
              "          element.appendChild(docLink);\n",
              "        }\n",
              "      </script>\n",
              "    </div>\n",
              "  </div>\n",
              "  "
            ]
          },
          "metadata": {},
          "execution_count": 3
        }
      ]
    },
    {
      "cell_type": "code",
      "source": [
        "data.describe()"
      ],
      "metadata": {
        "colab": {
          "base_uri": "https://localhost:8080/",
          "height": 300
        },
        "id": "elwhygernZuc",
        "outputId": "abb88b67-92ab-49c8-b093-00add45f44c0"
      },
      "execution_count": null,
      "outputs": [
        {
          "output_type": "execute_result",
          "data": {
            "text/plain": [
              "       volatile acidity  citric acid  residual sugar    chlorides  \\\n",
              "count       1143.000000  1143.000000     1143.000000  1143.000000   \n",
              "mean           0.531339     0.268364        2.532152     0.086933   \n",
              "std            0.179633     0.196686        1.355917     0.047267   \n",
              "min            0.120000     0.000000        0.900000     0.012000   \n",
              "25%            0.392500     0.090000        1.900000     0.070000   \n",
              "50%            0.520000     0.250000        2.200000     0.079000   \n",
              "75%            0.640000     0.420000        2.600000     0.090000   \n",
              "max            1.580000     1.000000       15.500000     0.611000   \n",
              "\n",
              "       free sulfur dioxide  total sulfur dioxide      density           pH  \\\n",
              "count          1143.000000           1143.000000  1143.000000  1143.000000   \n",
              "mean             15.615486             45.914698     0.996730     3.311015   \n",
              "std              10.250486             32.782130     0.001925     0.156664   \n",
              "min               1.000000              6.000000     0.990070     2.740000   \n",
              "25%               7.000000             21.000000     0.995570     3.205000   \n",
              "50%              13.000000             37.000000     0.996680     3.310000   \n",
              "75%              21.000000             61.000000     0.997845     3.400000   \n",
              "max              68.000000            289.000000     1.003690     4.010000   \n",
              "\n",
              "         sulphates      alcohol      quality  \n",
              "count  1143.000000  1143.000000  1143.000000  \n",
              "mean      0.657708    10.442111     5.657043  \n",
              "std       0.170399     1.082196     0.805824  \n",
              "min       0.330000     8.400000     3.000000  \n",
              "25%       0.550000     9.500000     5.000000  \n",
              "50%       0.620000    10.200000     6.000000  \n",
              "75%       0.730000    11.100000     6.000000  \n",
              "max       2.000000    14.900000     8.000000  "
            ],
            "text/html": [
              "\n",
              "  <div id=\"df-45c38edb-b11a-4de4-91a3-82307b4dd8df\">\n",
              "    <div class=\"colab-df-container\">\n",
              "      <div>\n",
              "<style scoped>\n",
              "    .dataframe tbody tr th:only-of-type {\n",
              "        vertical-align: middle;\n",
              "    }\n",
              "\n",
              "    .dataframe tbody tr th {\n",
              "        vertical-align: top;\n",
              "    }\n",
              "\n",
              "    .dataframe thead th {\n",
              "        text-align: right;\n",
              "    }\n",
              "</style>\n",
              "<table border=\"1\" class=\"dataframe\">\n",
              "  <thead>\n",
              "    <tr style=\"text-align: right;\">\n",
              "      <th></th>\n",
              "      <th>volatile acidity</th>\n",
              "      <th>citric acid</th>\n",
              "      <th>residual sugar</th>\n",
              "      <th>chlorides</th>\n",
              "      <th>free sulfur dioxide</th>\n",
              "      <th>total sulfur dioxide</th>\n",
              "      <th>density</th>\n",
              "      <th>pH</th>\n",
              "      <th>sulphates</th>\n",
              "      <th>alcohol</th>\n",
              "      <th>quality</th>\n",
              "    </tr>\n",
              "  </thead>\n",
              "  <tbody>\n",
              "    <tr>\n",
              "      <th>count</th>\n",
              "      <td>1143.000000</td>\n",
              "      <td>1143.000000</td>\n",
              "      <td>1143.000000</td>\n",
              "      <td>1143.000000</td>\n",
              "      <td>1143.000000</td>\n",
              "      <td>1143.000000</td>\n",
              "      <td>1143.000000</td>\n",
              "      <td>1143.000000</td>\n",
              "      <td>1143.000000</td>\n",
              "      <td>1143.000000</td>\n",
              "      <td>1143.000000</td>\n",
              "    </tr>\n",
              "    <tr>\n",
              "      <th>mean</th>\n",
              "      <td>0.531339</td>\n",
              "      <td>0.268364</td>\n",
              "      <td>2.532152</td>\n",
              "      <td>0.086933</td>\n",
              "      <td>15.615486</td>\n",
              "      <td>45.914698</td>\n",
              "      <td>0.996730</td>\n",
              "      <td>3.311015</td>\n",
              "      <td>0.657708</td>\n",
              "      <td>10.442111</td>\n",
              "      <td>5.657043</td>\n",
              "    </tr>\n",
              "    <tr>\n",
              "      <th>std</th>\n",
              "      <td>0.179633</td>\n",
              "      <td>0.196686</td>\n",
              "      <td>1.355917</td>\n",
              "      <td>0.047267</td>\n",
              "      <td>10.250486</td>\n",
              "      <td>32.782130</td>\n",
              "      <td>0.001925</td>\n",
              "      <td>0.156664</td>\n",
              "      <td>0.170399</td>\n",
              "      <td>1.082196</td>\n",
              "      <td>0.805824</td>\n",
              "    </tr>\n",
              "    <tr>\n",
              "      <th>min</th>\n",
              "      <td>0.120000</td>\n",
              "      <td>0.000000</td>\n",
              "      <td>0.900000</td>\n",
              "      <td>0.012000</td>\n",
              "      <td>1.000000</td>\n",
              "      <td>6.000000</td>\n",
              "      <td>0.990070</td>\n",
              "      <td>2.740000</td>\n",
              "      <td>0.330000</td>\n",
              "      <td>8.400000</td>\n",
              "      <td>3.000000</td>\n",
              "    </tr>\n",
              "    <tr>\n",
              "      <th>25%</th>\n",
              "      <td>0.392500</td>\n",
              "      <td>0.090000</td>\n",
              "      <td>1.900000</td>\n",
              "      <td>0.070000</td>\n",
              "      <td>7.000000</td>\n",
              "      <td>21.000000</td>\n",
              "      <td>0.995570</td>\n",
              "      <td>3.205000</td>\n",
              "      <td>0.550000</td>\n",
              "      <td>9.500000</td>\n",
              "      <td>5.000000</td>\n",
              "    </tr>\n",
              "    <tr>\n",
              "      <th>50%</th>\n",
              "      <td>0.520000</td>\n",
              "      <td>0.250000</td>\n",
              "      <td>2.200000</td>\n",
              "      <td>0.079000</td>\n",
              "      <td>13.000000</td>\n",
              "      <td>37.000000</td>\n",
              "      <td>0.996680</td>\n",
              "      <td>3.310000</td>\n",
              "      <td>0.620000</td>\n",
              "      <td>10.200000</td>\n",
              "      <td>6.000000</td>\n",
              "    </tr>\n",
              "    <tr>\n",
              "      <th>75%</th>\n",
              "      <td>0.640000</td>\n",
              "      <td>0.420000</td>\n",
              "      <td>2.600000</td>\n",
              "      <td>0.090000</td>\n",
              "      <td>21.000000</td>\n",
              "      <td>61.000000</td>\n",
              "      <td>0.997845</td>\n",
              "      <td>3.400000</td>\n",
              "      <td>0.730000</td>\n",
              "      <td>11.100000</td>\n",
              "      <td>6.000000</td>\n",
              "    </tr>\n",
              "    <tr>\n",
              "      <th>max</th>\n",
              "      <td>1.580000</td>\n",
              "      <td>1.000000</td>\n",
              "      <td>15.500000</td>\n",
              "      <td>0.611000</td>\n",
              "      <td>68.000000</td>\n",
              "      <td>289.000000</td>\n",
              "      <td>1.003690</td>\n",
              "      <td>4.010000</td>\n",
              "      <td>2.000000</td>\n",
              "      <td>14.900000</td>\n",
              "      <td>8.000000</td>\n",
              "    </tr>\n",
              "  </tbody>\n",
              "</table>\n",
              "</div>\n",
              "      <button class=\"colab-df-convert\" onclick=\"convertToInteractive('df-45c38edb-b11a-4de4-91a3-82307b4dd8df')\"\n",
              "              title=\"Convert this dataframe to an interactive table.\"\n",
              "              style=\"display:none;\">\n",
              "        \n",
              "  <svg xmlns=\"http://www.w3.org/2000/svg\" height=\"24px\"viewBox=\"0 0 24 24\"\n",
              "       width=\"24px\">\n",
              "    <path d=\"M0 0h24v24H0V0z\" fill=\"none\"/>\n",
              "    <path d=\"M18.56 5.44l.94 2.06.94-2.06 2.06-.94-2.06-.94-.94-2.06-.94 2.06-2.06.94zm-11 1L8.5 8.5l.94-2.06 2.06-.94-2.06-.94L8.5 2.5l-.94 2.06-2.06.94zm10 10l.94 2.06.94-2.06 2.06-.94-2.06-.94-.94-2.06-.94 2.06-2.06.94z\"/><path d=\"M17.41 7.96l-1.37-1.37c-.4-.4-.92-.59-1.43-.59-.52 0-1.04.2-1.43.59L10.3 9.45l-7.72 7.72c-.78.78-.78 2.05 0 2.83L4 21.41c.39.39.9.59 1.41.59.51 0 1.02-.2 1.41-.59l7.78-7.78 2.81-2.81c.8-.78.8-2.07 0-2.86zM5.41 20L4 18.59l7.72-7.72 1.47 1.35L5.41 20z\"/>\n",
              "  </svg>\n",
              "      </button>\n",
              "      \n",
              "  <style>\n",
              "    .colab-df-container {\n",
              "      display:flex;\n",
              "      flex-wrap:wrap;\n",
              "      gap: 12px;\n",
              "    }\n",
              "\n",
              "    .colab-df-convert {\n",
              "      background-color: #E8F0FE;\n",
              "      border: none;\n",
              "      border-radius: 50%;\n",
              "      cursor: pointer;\n",
              "      display: none;\n",
              "      fill: #1967D2;\n",
              "      height: 32px;\n",
              "      padding: 0 0 0 0;\n",
              "      width: 32px;\n",
              "    }\n",
              "\n",
              "    .colab-df-convert:hover {\n",
              "      background-color: #E2EBFA;\n",
              "      box-shadow: 0px 1px 2px rgba(60, 64, 67, 0.3), 0px 1px 3px 1px rgba(60, 64, 67, 0.15);\n",
              "      fill: #174EA6;\n",
              "    }\n",
              "\n",
              "    [theme=dark] .colab-df-convert {\n",
              "      background-color: #3B4455;\n",
              "      fill: #D2E3FC;\n",
              "    }\n",
              "\n",
              "    [theme=dark] .colab-df-convert:hover {\n",
              "      background-color: #434B5C;\n",
              "      box-shadow: 0px 1px 3px 1px rgba(0, 0, 0, 0.15);\n",
              "      filter: drop-shadow(0px 1px 2px rgba(0, 0, 0, 0.3));\n",
              "      fill: #FFFFFF;\n",
              "    }\n",
              "  </style>\n",
              "\n",
              "      <script>\n",
              "        const buttonEl =\n",
              "          document.querySelector('#df-45c38edb-b11a-4de4-91a3-82307b4dd8df button.colab-df-convert');\n",
              "        buttonEl.style.display =\n",
              "          google.colab.kernel.accessAllowed ? 'block' : 'none';\n",
              "\n",
              "        async function convertToInteractive(key) {\n",
              "          const element = document.querySelector('#df-45c38edb-b11a-4de4-91a3-82307b4dd8df');\n",
              "          const dataTable =\n",
              "            await google.colab.kernel.invokeFunction('convertToInteractive',\n",
              "                                                     [key], {});\n",
              "          if (!dataTable) return;\n",
              "\n",
              "          const docLinkHtml = 'Like what you see? Visit the ' +\n",
              "            '<a target=\"_blank\" href=https://colab.research.google.com/notebooks/data_table.ipynb>data table notebook</a>'\n",
              "            + ' to learn more about interactive tables.';\n",
              "          element.innerHTML = '';\n",
              "          dataTable['output_type'] = 'display_data';\n",
              "          await google.colab.output.renderOutput(dataTable, element);\n",
              "          const docLink = document.createElement('div');\n",
              "          docLink.innerHTML = docLinkHtml;\n",
              "          element.appendChild(docLink);\n",
              "        }\n",
              "      </script>\n",
              "    </div>\n",
              "  </div>\n",
              "  "
            ]
          },
          "metadata": {},
          "execution_count": 4
        }
      ]
    },
    {
      "cell_type": "code",
      "source": [
        "ave_quality = data.groupby(\"quality\").mean()\n",
        "ave_quality"
      ],
      "metadata": {
        "colab": {
          "base_uri": "https://localhost:8080/",
          "height": 269
        },
        "id": "p5w4NRx-n2YX",
        "outputId": "80b40faa-76fc-4dff-a031-e906c22ed3ae"
      },
      "execution_count": null,
      "outputs": [
        {
          "output_type": "execute_result",
          "data": {
            "text/plain": [
              "         volatile acidity  citric acid  residual sugar  chlorides  \\\n",
              "quality                                                             \n",
              "3                0.897500     0.211667        2.666667   0.105333   \n",
              "4                0.700000     0.165758        2.566667   0.094788   \n",
              "5                0.585280     0.240124        2.540476   0.091770   \n",
              "6                0.504957     0.263680        2.444805   0.085281   \n",
              "7                0.393671     0.386573        2.760140   0.075217   \n",
              "8                0.410000     0.432500        2.643750   0.070187   \n",
              "\n",
              "         free sulfur dioxide  total sulfur dioxide   density        pH  \\\n",
              "quality                                                                  \n",
              "3                   8.166667             24.500000  0.997682  3.361667   \n",
              "4                  14.848485             40.606061  0.996669  3.391212   \n",
              "5                  16.612836             55.299172  0.997073  3.302091   \n",
              "6                  15.215368             39.941558  0.996610  3.323788   \n",
              "7                  14.538462             37.489510  0.996071  3.287133   \n",
              "8                  11.062500             29.375000  0.995553  3.240625   \n",
              "\n",
              "         sulphates    alcohol  \n",
              "quality                        \n",
              "3         0.550000   9.691667  \n",
              "4         0.637879  10.260606  \n",
              "5         0.613375   9.902277  \n",
              "6         0.676537  10.655339  \n",
              "7         0.743566  11.482634  \n",
              "8         0.766250  11.937500  "
            ],
            "text/html": [
              "\n",
              "  <div id=\"df-a8e01a14-00d9-47c5-acd1-aa54a098f2f8\">\n",
              "    <div class=\"colab-df-container\">\n",
              "      <div>\n",
              "<style scoped>\n",
              "    .dataframe tbody tr th:only-of-type {\n",
              "        vertical-align: middle;\n",
              "    }\n",
              "\n",
              "    .dataframe tbody tr th {\n",
              "        vertical-align: top;\n",
              "    }\n",
              "\n",
              "    .dataframe thead th {\n",
              "        text-align: right;\n",
              "    }\n",
              "</style>\n",
              "<table border=\"1\" class=\"dataframe\">\n",
              "  <thead>\n",
              "    <tr style=\"text-align: right;\">\n",
              "      <th></th>\n",
              "      <th>volatile acidity</th>\n",
              "      <th>citric acid</th>\n",
              "      <th>residual sugar</th>\n",
              "      <th>chlorides</th>\n",
              "      <th>free sulfur dioxide</th>\n",
              "      <th>total sulfur dioxide</th>\n",
              "      <th>density</th>\n",
              "      <th>pH</th>\n",
              "      <th>sulphates</th>\n",
              "      <th>alcohol</th>\n",
              "    </tr>\n",
              "    <tr>\n",
              "      <th>quality</th>\n",
              "      <th></th>\n",
              "      <th></th>\n",
              "      <th></th>\n",
              "      <th></th>\n",
              "      <th></th>\n",
              "      <th></th>\n",
              "      <th></th>\n",
              "      <th></th>\n",
              "      <th></th>\n",
              "      <th></th>\n",
              "    </tr>\n",
              "  </thead>\n",
              "  <tbody>\n",
              "    <tr>\n",
              "      <th>3</th>\n",
              "      <td>0.897500</td>\n",
              "      <td>0.211667</td>\n",
              "      <td>2.666667</td>\n",
              "      <td>0.105333</td>\n",
              "      <td>8.166667</td>\n",
              "      <td>24.500000</td>\n",
              "      <td>0.997682</td>\n",
              "      <td>3.361667</td>\n",
              "      <td>0.550000</td>\n",
              "      <td>9.691667</td>\n",
              "    </tr>\n",
              "    <tr>\n",
              "      <th>4</th>\n",
              "      <td>0.700000</td>\n",
              "      <td>0.165758</td>\n",
              "      <td>2.566667</td>\n",
              "      <td>0.094788</td>\n",
              "      <td>14.848485</td>\n",
              "      <td>40.606061</td>\n",
              "      <td>0.996669</td>\n",
              "      <td>3.391212</td>\n",
              "      <td>0.637879</td>\n",
              "      <td>10.260606</td>\n",
              "    </tr>\n",
              "    <tr>\n",
              "      <th>5</th>\n",
              "      <td>0.585280</td>\n",
              "      <td>0.240124</td>\n",
              "      <td>2.540476</td>\n",
              "      <td>0.091770</td>\n",
              "      <td>16.612836</td>\n",
              "      <td>55.299172</td>\n",
              "      <td>0.997073</td>\n",
              "      <td>3.302091</td>\n",
              "      <td>0.613375</td>\n",
              "      <td>9.902277</td>\n",
              "    </tr>\n",
              "    <tr>\n",
              "      <th>6</th>\n",
              "      <td>0.504957</td>\n",
              "      <td>0.263680</td>\n",
              "      <td>2.444805</td>\n",
              "      <td>0.085281</td>\n",
              "      <td>15.215368</td>\n",
              "      <td>39.941558</td>\n",
              "      <td>0.996610</td>\n",
              "      <td>3.323788</td>\n",
              "      <td>0.676537</td>\n",
              "      <td>10.655339</td>\n",
              "    </tr>\n",
              "    <tr>\n",
              "      <th>7</th>\n",
              "      <td>0.393671</td>\n",
              "      <td>0.386573</td>\n",
              "      <td>2.760140</td>\n",
              "      <td>0.075217</td>\n",
              "      <td>14.538462</td>\n",
              "      <td>37.489510</td>\n",
              "      <td>0.996071</td>\n",
              "      <td>3.287133</td>\n",
              "      <td>0.743566</td>\n",
              "      <td>11.482634</td>\n",
              "    </tr>\n",
              "    <tr>\n",
              "      <th>8</th>\n",
              "      <td>0.410000</td>\n",
              "      <td>0.432500</td>\n",
              "      <td>2.643750</td>\n",
              "      <td>0.070187</td>\n",
              "      <td>11.062500</td>\n",
              "      <td>29.375000</td>\n",
              "      <td>0.995553</td>\n",
              "      <td>3.240625</td>\n",
              "      <td>0.766250</td>\n",
              "      <td>11.937500</td>\n",
              "    </tr>\n",
              "  </tbody>\n",
              "</table>\n",
              "</div>\n",
              "      <button class=\"colab-df-convert\" onclick=\"convertToInteractive('df-a8e01a14-00d9-47c5-acd1-aa54a098f2f8')\"\n",
              "              title=\"Convert this dataframe to an interactive table.\"\n",
              "              style=\"display:none;\">\n",
              "        \n",
              "  <svg xmlns=\"http://www.w3.org/2000/svg\" height=\"24px\"viewBox=\"0 0 24 24\"\n",
              "       width=\"24px\">\n",
              "    <path d=\"M0 0h24v24H0V0z\" fill=\"none\"/>\n",
              "    <path d=\"M18.56 5.44l.94 2.06.94-2.06 2.06-.94-2.06-.94-.94-2.06-.94 2.06-2.06.94zm-11 1L8.5 8.5l.94-2.06 2.06-.94-2.06-.94L8.5 2.5l-.94 2.06-2.06.94zm10 10l.94 2.06.94-2.06 2.06-.94-2.06-.94-.94-2.06-.94 2.06-2.06.94z\"/><path d=\"M17.41 7.96l-1.37-1.37c-.4-.4-.92-.59-1.43-.59-.52 0-1.04.2-1.43.59L10.3 9.45l-7.72 7.72c-.78.78-.78 2.05 0 2.83L4 21.41c.39.39.9.59 1.41.59.51 0 1.02-.2 1.41-.59l7.78-7.78 2.81-2.81c.8-.78.8-2.07 0-2.86zM5.41 20L4 18.59l7.72-7.72 1.47 1.35L5.41 20z\"/>\n",
              "  </svg>\n",
              "      </button>\n",
              "      \n",
              "  <style>\n",
              "    .colab-df-container {\n",
              "      display:flex;\n",
              "      flex-wrap:wrap;\n",
              "      gap: 12px;\n",
              "    }\n",
              "\n",
              "    .colab-df-convert {\n",
              "      background-color: #E8F0FE;\n",
              "      border: none;\n",
              "      border-radius: 50%;\n",
              "      cursor: pointer;\n",
              "      display: none;\n",
              "      fill: #1967D2;\n",
              "      height: 32px;\n",
              "      padding: 0 0 0 0;\n",
              "      width: 32px;\n",
              "    }\n",
              "\n",
              "    .colab-df-convert:hover {\n",
              "      background-color: #E2EBFA;\n",
              "      box-shadow: 0px 1px 2px rgba(60, 64, 67, 0.3), 0px 1px 3px 1px rgba(60, 64, 67, 0.15);\n",
              "      fill: #174EA6;\n",
              "    }\n",
              "\n",
              "    [theme=dark] .colab-df-convert {\n",
              "      background-color: #3B4455;\n",
              "      fill: #D2E3FC;\n",
              "    }\n",
              "\n",
              "    [theme=dark] .colab-df-convert:hover {\n",
              "      background-color: #434B5C;\n",
              "      box-shadow: 0px 1px 3px 1px rgba(0, 0, 0, 0.15);\n",
              "      filter: drop-shadow(0px 1px 2px rgba(0, 0, 0, 0.3));\n",
              "      fill: #FFFFFF;\n",
              "    }\n",
              "  </style>\n",
              "\n",
              "      <script>\n",
              "        const buttonEl =\n",
              "          document.querySelector('#df-a8e01a14-00d9-47c5-acd1-aa54a098f2f8 button.colab-df-convert');\n",
              "        buttonEl.style.display =\n",
              "          google.colab.kernel.accessAllowed ? 'block' : 'none';\n",
              "\n",
              "        async function convertToInteractive(key) {\n",
              "          const element = document.querySelector('#df-a8e01a14-00d9-47c5-acd1-aa54a098f2f8');\n",
              "          const dataTable =\n",
              "            await google.colab.kernel.invokeFunction('convertToInteractive',\n",
              "                                                     [key], {});\n",
              "          if (!dataTable) return;\n",
              "\n",
              "          const docLinkHtml = 'Like what you see? Visit the ' +\n",
              "            '<a target=\"_blank\" href=https://colab.research.google.com/notebooks/data_table.ipynb>data table notebook</a>'\n",
              "            + ' to learn more about interactive tables.';\n",
              "          element.innerHTML = '';\n",
              "          dataTable['output_type'] = 'display_data';\n",
              "          await google.colab.output.renderOutput(dataTable, element);\n",
              "          const docLink = document.createElement('div');\n",
              "          docLink.innerHTML = docLinkHtml;\n",
              "          element.appendChild(docLink);\n",
              "        }\n",
              "      </script>\n",
              "    </div>\n",
              "  </div>\n",
              "  "
            ]
          },
          "metadata": {},
          "execution_count": 5
        }
      ]
    },
    {
      "cell_type": "code",
      "source": [
        "X= data.columns[:-1]; y= data.columns[-1]\n",
        "fig,ax=plt.subplots(figsize=(10,5))\n",
        "sns.countplot(x=y, data=data, palette = 'mako', ax=ax)\n",
        "ax.set_title('Liczność oceny jakościowej', fontsize=15, color = 'black');"
      ],
      "metadata": {
        "colab": {
          "base_uri": "https://localhost:8080/",
          "height": 356
        },
        "id": "gGydRy1d0sPk",
        "outputId": "3247f47e-0492-40d8-b1c7-d40465fc8193"
      },
      "execution_count": null,
      "outputs": [
        {
          "output_type": "display_data",
          "data": {
            "text/plain": [
              "<Figure size 720x360 with 1 Axes>"
            ],
            "image/png": "[encoded data removed]"
          },
          "metadata": {
            "needs_background": "light"
          }
        }
      ]
    },
    {
      "cell_type": "markdown",
      "source": [
        "Widzimy, że większość ocen skupia się wokół średnich wartości - przypadki skrajnie kiepskich i wyśmienitych rodzajów nawet nie występują w próbce.\n",
        "Spróbujmy wyrównać wielkości próbek przy użyciu [SMOTE - Synthetic Minority Over-sampling Technique](https://machinelearningmastery.com/smote-oversampling-for-imbalanced-classification/)\n",
        "\n"
      ],
      "metadata": {
        "id": "6d6QWQsrj723"
      }
    },
    {
      "cell_type": "code",
      "source": [
        "from imblearn.over_sampling import SMOTE\n",
        "X=data.drop(['quality'],axis=1)\n",
        "y=data['quality']\n",
        "strategy={3:340,4:350,7:350,8:350}\n",
        "oversample = SMOTE(sampling_strategy=strategy)\n",
        "X, y = oversample.fit_resample(X, y)"
      ],
      "metadata": {
        "id": "tTiZaiEFtfks"
      },
      "execution_count": null,
      "outputs": []
    },
    {
      "cell_type": "code",
      "source": [
        "fig,ax=plt.subplots(figsize=(10,5))\n",
        "sns.countplot(x=y, data=data, palette = 'mako', ax=ax)\n",
        "ax.set_title('Liczność oceny jakościowej', fontsize=15, color = 'black');"
      ],
      "metadata": {
        "colab": {
          "base_uri": "https://localhost:8080/",
          "height": 356
        },
        "id": "YcIGZeC-ttP_",
        "outputId": "b0aac1e7-383b-4492-dce2-ee54f0fe57e7"
      },
      "execution_count": null,
      "outputs": [
        {
          "output_type": "display_data",
          "data": {
            "text/plain": [
              "<Figure size 720x360 with 1 Axes>"
            ],
            "image/png": "[encoded data removed]"
          },
          "metadata": {
            "needs_background": "light"
          }
        }
      ]
    },
    {
      "cell_type": "code",
      "source": [
        "plt.rcParams['text.color'] = 'black'\n",
        "X.hist(figsize=(20,15),bins='auto', color='skyblue')\n",
        "plt.show()"
      ],
      "metadata": {
        "colab": {
          "base_uri": "https://localhost:8080/",
          "height": 880
        },
        "id": "Tc-c-AkE8L38",
        "outputId": "b573d929-221b-4e44-abc4-f4f1631cf761"
      },
      "execution_count": null,
      "outputs": [
        {
          "output_type": "display_data",
          "data": {
            "text/plain": [
              "<Figure size 1440x1080 with 12 Axes>"
            ],
            "image/png": "[encoded data removed]"
          },
          "metadata": {
            "needs_background": "light"
          }
        }
      ]
    },
    {
      "cell_type": "code",
      "source": [
        "corr = data.loc[:, data.columns != \"classification\"].corr()\n",
        "corr"
      ],
      "metadata": {
        "colab": {
          "base_uri": "https://localhost:8080/",
          "height": 394
        },
        "id": "CCCQ7ud7uSM0",
        "outputId": "64f1fe9d-e9f9-4043-a5f7-33dc501e9da6"
      },
      "execution_count": null,
      "outputs": [
        {
          "output_type": "execute_result",
          "data": {
            "text/plain": [
              "                      volatile acidity  citric acid  residual sugar  \\\n",
              "volatile acidity              1.000000    -0.544187       -0.005751   \n",
              "citric acid                  -0.544187     1.000000        0.175815   \n",
              "residual sugar               -0.005751     0.175815        1.000000   \n",
              "chlorides                     0.056336     0.245312        0.070863   \n",
              "free sulfur dioxide          -0.001962    -0.057589        0.165339   \n",
              "total sulfur dioxide          0.077748     0.036871        0.190790   \n",
              "density                       0.016512     0.375243        0.380147   \n",
              "pH                            0.221492    -0.546339       -0.116959   \n",
              "sulphates                    -0.276079     0.331232        0.017475   \n",
              "alcohol                      -0.203909     0.106250        0.058421   \n",
              "quality                      -0.407394     0.240821        0.022002   \n",
              "\n",
              "                      chlorides  free sulfur dioxide  total sulfur dioxide  \\\n",
              "volatile acidity       0.056336            -0.001962              0.077748   \n",
              "citric acid            0.245312            -0.057589              0.036871   \n",
              "residual sugar         0.070863             0.165339              0.190790   \n",
              "chlorides              1.000000             0.015280              0.048163   \n",
              "free sulfur dioxide    0.015280             1.000000              0.661093   \n",
              "total sulfur dioxide   0.048163             0.661093              1.000000   \n",
              "density                0.208901            -0.054150              0.050175   \n",
              "pH                    -0.277759             0.072804             -0.059126   \n",
              "sulphates              0.374784             0.034445              0.026894   \n",
              "alcohol               -0.229917            -0.047095             -0.188165   \n",
              "quality               -0.124085            -0.063260             -0.183339   \n",
              "\n",
              "                       density        pH  sulphates   alcohol   quality  \n",
              "volatile acidity      0.016512  0.221492  -0.276079 -0.203909 -0.407394  \n",
              "citric acid           0.375243 -0.546339   0.331232  0.106250  0.240821  \n",
              "residual sugar        0.380147 -0.116959   0.017475  0.058421  0.022002  \n",
              "chlorides             0.208901 -0.277759   0.374784 -0.229917 -0.124085  \n",
              "free sulfur dioxide  -0.054150  0.072804   0.034445 -0.047095 -0.063260  \n",
              "total sulfur dioxide  0.050175 -0.059126   0.026894 -0.188165 -0.183339  \n",
              "density               1.000000 -0.352775   0.143139 -0.494727 -0.175208  \n",
              "pH                   -0.352775  1.000000  -0.185499  0.225322 -0.052453  \n",
              "sulphates             0.143139 -0.185499   1.000000  0.094421  0.257710  \n",
              "alcohol              -0.494727  0.225322   0.094421  1.000000  0.484866  \n",
              "quality              -0.175208 -0.052453   0.257710  0.484866  1.000000  "
            ],
            "text/html": [
              "\n",
              "  <div id=\"df-cdc5b472-f848-44a7-9c4c-27886901affd\">\n",
              "    <div class=\"colab-df-container\">\n",
              "      <div>\n",
              "<style scoped>\n",
              "    .dataframe tbody tr th:only-of-type {\n",
              "        vertical-align: middle;\n",
              "    }\n",
              "\n",
              "    .dataframe tbody tr th {\n",
              "        vertical-align: top;\n",
              "    }\n",
              "\n",
              "    .dataframe thead th {\n",
              "        text-align: right;\n",
              "    }\n",
              "</style>\n",
              "<table border=\"1\" class=\"dataframe\">\n",
              "  <thead>\n",
              "    <tr style=\"text-align: right;\">\n",
              "      <th></th>\n",
              "      <th>volatile acidity</th>\n",
              "      <th>citric acid</th>\n",
              "      <th>residual sugar</th>\n",
              "      <th>chlorides</th>\n",
              "      <th>free sulfur dioxide</th>\n",
              "      <th>total sulfur dioxide</th>\n",
              "      <th>density</th>\n",
              "      <th>pH</th>\n",
              "      <th>sulphates</th>\n",
              "      <th>alcohol</th>\n",
              "      <th>quality</th>\n",
              "    </tr>\n",
              "  </thead>\n",
              "  <tbody>\n",
              "    <tr>\n",
              "      <th>volatile acidity</th>\n",
              "      <td>1.000000</td>\n",
              "      <td>-0.544187</td>\n",
              "      <td>-0.005751</td>\n",
              "      <td>0.056336</td>\n",
              "      <td>-0.001962</td>\n",
              "      <td>0.077748</td>\n",
              "      <td>0.016512</td>\n",
              "      <td>0.221492</td>\n",
              "      <td>-0.276079</td>\n",
              "      <td>-0.203909</td>\n",
              "      <td>-0.407394</td>\n",
              "    </tr>\n",
              "    <tr>\n",
              "      <th>citric acid</th>\n",
              "      <td>-0.544187</td>\n",
              "      <td>1.000000</td>\n",
              "      <td>0.175815</td>\n",
              "      <td>0.245312</td>\n",
              "      <td>-0.057589</td>\n",
              "      <td>0.036871</td>\n",
              "      <td>0.375243</td>\n",
              "      <td>-0.546339</td>\n",
              "      <td>0.331232</td>\n",
              "      <td>0.106250</td>\n",
              "      <td>0.240821</td>\n",
              "    </tr>\n",
              "    <tr>\n",
              "      <th>residual sugar</th>\n",
              "      <td>-0.005751</td>\n",
              "      <td>0.175815</td>\n",
              "      <td>1.000000</td>\n",
              "      <td>0.070863</td>\n",
              "      <td>0.165339</td>\n",
              "      <td>0.190790</td>\n",
              "      <td>0.380147</td>\n",
              "      <td>-0.116959</td>\n",
              "      <td>0.017475</td>\n",
              "      <td>0.058421</td>\n",
              "      <td>0.022002</td>\n",
              "    </tr>\n",
              "    <tr>\n",
              "      <th>chlorides</th>\n",
              "      <td>0.056336</td>\n",
              "      <td>0.245312</td>\n",
              "      <td>0.070863</td>\n",
              "      <td>1.000000</td>\n",
              "      <td>0.015280</td>\n",
              "      <td>0.048163</td>\n",
              "      <td>0.208901</td>\n",
              "      <td>-0.277759</td>\n",
              "      <td>0.374784</td>\n",
              "      <td>-0.229917</td>\n",
              "      <td>-0.124085</td>\n",
              "    </tr>\n",
              "    <tr>\n",
              "      <th>free sulfur dioxide</th>\n",
              "      <td>-0.001962</td>\n",
              "      <td>-0.057589</td>\n",
              "      <td>0.165339</td>\n",
              "      <td>0.015280</td>\n",
              "      <td>1.000000</td>\n",
              "      <td>0.661093</td>\n",
              "      <td>-0.054150</td>\n",
              "      <td>0.072804</td>\n",
              "      <td>0.034445</td>\n",
              "      <td>-0.047095</td>\n",
              "      <td>-0.063260</td>\n",
              "    </tr>\n",
              "    <tr>\n",
              "      <th>total sulfur dioxide</th>\n",
              "      <td>0.077748</td>\n",
              "      <td>0.036871</td>\n",
              "      <td>0.190790</td>\n",
              "      <td>0.048163</td>\n",
              "      <td>0.661093</td>\n",
              "      <td>1.000000</td>\n",
              "      <td>0.050175</td>\n",
              "      <td>-0.059126</td>\n",
              "      <td>0.026894</td>\n",
              "      <td>-0.188165</td>\n",
              "      <td>-0.183339</td>\n",
              "    </tr>\n",
              "    <tr>\n",
              "      <th>density</th>\n",
              "      <td>0.016512</td>\n",
              "      <td>0.375243</td>\n",
              "      <td>0.380147</td>\n",
              "      <td>0.208901</td>\n",
              "      <td>-0.054150</td>\n",
              "      <td>0.050175</td>\n",
              "      <td>1.000000</td>\n",
              "      <td>-0.352775</td>\n",
              "      <td>0.143139</td>\n",
              "      <td>-0.494727</td>\n",
              "      <td>-0.175208</td>\n",
              "    </tr>\n",
              "    <tr>\n",
              "      <th>pH</th>\n",
              "      <td>0.221492</td>\n",
              "      <td>-0.546339</td>\n",
              "      <td>-0.116959</td>\n",
              "      <td>-0.277759</td>\n",
              "      <td>0.072804</td>\n",
              "      <td>-0.059126</td>\n",
              "      <td>-0.352775</td>\n",
              "      <td>1.000000</td>\n",
              "      <td>-0.185499</td>\n",
              "      <td>0.225322</td>\n",
              "      <td>-0.052453</td>\n",
              "    </tr>\n",
              "    <tr>\n",
              "      <th>sulphates</th>\n",
              "      <td>-0.276079</td>\n",
              "      <td>0.331232</td>\n",
              "      <td>0.017475</td>\n",
              "      <td>0.374784</td>\n",
              "      <td>0.034445</td>\n",
              "      <td>0.026894</td>\n",
              "      <td>0.143139</td>\n",
              "      <td>-0.185499</td>\n",
              "      <td>1.000000</td>\n",
              "      <td>0.094421</td>\n",
              "      <td>0.257710</td>\n",
              "    </tr>\n",
              "    <tr>\n",
              "      <th>alcohol</th>\n",
              "      <td>-0.203909</td>\n",
              "      <td>0.106250</td>\n",
              "      <td>0.058421</td>\n",
              "      <td>-0.229917</td>\n",
              "      <td>-0.047095</td>\n",
              "      <td>-0.188165</td>\n",
              "      <td>-0.494727</td>\n",
              "      <td>0.225322</td>\n",
              "      <td>0.094421</td>\n",
              "      <td>1.000000</td>\n",
              "      <td>0.484866</td>\n",
              "    </tr>\n",
              "    <tr>\n",
              "      <th>quality</th>\n",
              "      <td>-0.407394</td>\n",
              "      <td>0.240821</td>\n",
              "      <td>0.022002</td>\n",
              "      <td>-0.124085</td>\n",
              "      <td>-0.063260</td>\n",
              "      <td>-0.183339</td>\n",
              "      <td>-0.175208</td>\n",
              "      <td>-0.052453</td>\n",
              "      <td>0.257710</td>\n",
              "      <td>0.484866</td>\n",
              "      <td>1.000000</td>\n",
              "    </tr>\n",
              "  </tbody>\n",
              "</table>\n",
              "</div>\n",
              "      <button class=\"colab-df-convert\" onclick=\"convertToInteractive('df-cdc5b472-f848-44a7-9c4c-27886901affd')\"\n",
              "              title=\"Convert this dataframe to an interactive table.\"\n",
              "              style=\"display:none;\">\n",
              "        \n",
              "  <svg xmlns=\"http://www.w3.org/2000/svg\" height=\"24px\"viewBox=\"0 0 24 24\"\n",
              "       width=\"24px\">\n",
              "    <path d=\"M0 0h24v24H0V0z\" fill=\"none\"/>\n",
              "    <path d=\"M18.56 5.44l.94 2.06.94-2.06 2.06-.94-2.06-.94-.94-2.06-.94 2.06-2.06.94zm-11 1L8.5 8.5l.94-2.06 2.06-.94-2.06-.94L8.5 2.5l-.94 2.06-2.06.94zm10 10l.94 2.06.94-2.06 2.06-.94-2.06-.94-.94-2.06-.94 2.06-2.06.94z\"/><path d=\"M17.41 7.96l-1.37-1.37c-.4-.4-.92-.59-1.43-.59-.52 0-1.04.2-1.43.59L10.3 9.45l-7.72 7.72c-.78.78-.78 2.05 0 2.83L4 21.41c.39.39.9.59 1.41.59.51 0 1.02-.2 1.41-.59l7.78-7.78 2.81-2.81c.8-.78.8-2.07 0-2.86zM5.41 20L4 18.59l7.72-7.72 1.47 1.35L5.41 20z\"/>\n",
              "  </svg>\n",
              "      </button>\n",
              "      \n",
              "  <style>\n",
              "    .colab-df-container {\n",
              "      display:flex;\n",
              "      flex-wrap:wrap;\n",
              "      gap: 12px;\n",
              "    }\n",
              "\n",
              "    .colab-df-convert {\n",
              "      background-color: #E8F0FE;\n",
              "      border: none;\n",
              "      border-radius: 50%;\n",
              "      cursor: pointer;\n",
              "      display: none;\n",
              "      fill: #1967D2;\n",
              "      height: 32px;\n",
              "      padding: 0 0 0 0;\n",
              "      width: 32px;\n",
              "    }\n",
              "\n",
              "    .colab-df-convert:hover {\n",
              "      background-color: #E2EBFA;\n",
              "      box-shadow: 0px 1px 2px rgba(60, 64, 67, 0.3), 0px 1px 3px 1px rgba(60, 64, 67, 0.15);\n",
              "      fill: #174EA6;\n",
              "    }\n",
              "\n",
              "    [theme=dark] .colab-df-convert {\n",
              "      background-color: #3B4455;\n",
              "      fill: #D2E3FC;\n",
              "    }\n",
              "\n",
              "    [theme=dark] .colab-df-convert:hover {\n",
              "      background-color: #434B5C;\n",
              "      box-shadow: 0px 1px 3px 1px rgba(0, 0, 0, 0.15);\n",
              "      filter: drop-shadow(0px 1px 2px rgba(0, 0, 0, 0.3));\n",
              "      fill: #FFFFFF;\n",
              "    }\n",
              "  </style>\n",
              "\n",
              "      <script>\n",
              "        const buttonEl =\n",
              "          document.querySelector('#df-cdc5b472-f848-44a7-9c4c-27886901affd button.colab-df-convert');\n",
              "        buttonEl.style.display =\n",
              "          google.colab.kernel.accessAllowed ? 'block' : 'none';\n",
              "\n",
              "        async function convertToInteractive(key) {\n",
              "          const element = document.querySelector('#df-cdc5b472-f848-44a7-9c4c-27886901affd');\n",
              "          const dataTable =\n",
              "            await google.colab.kernel.invokeFunction('convertToInteractive',\n",
              "                                                     [key], {});\n",
              "          if (!dataTable) return;\n",
              "\n",
              "          const docLinkHtml = 'Like what you see? Visit the ' +\n",
              "            '<a target=\"_blank\" href=https://colab.research.google.com/notebooks/data_table.ipynb>data table notebook</a>'\n",
              "            + ' to learn more about interactive tables.';\n",
              "          element.innerHTML = '';\n",
              "          dataTable['output_type'] = 'display_data';\n",
              "          await google.colab.output.renderOutput(dataTable, element);\n",
              "          const docLink = document.createElement('div');\n",
              "          docLink.innerHTML = docLinkHtml;\n",
              "          element.appendChild(docLink);\n",
              "        }\n",
              "      </script>\n",
              "    </div>\n",
              "  </div>\n",
              "  "
            ]
          },
          "metadata": {},
          "execution_count": 10
        }
      ]
    },
    {
      "cell_type": "code",
      "source": [
        "plt.figure(figsize=(10, 8))\n",
        "sns.heatmap(data.corr(), annot=True, cmap='YlGnBu')"
      ],
      "metadata": {
        "colab": {
          "base_uri": "https://localhost:8080/",
          "height": 589
        },
        "id": "hfCvlHOKsFw8",
        "outputId": "a5b81e91-4e83-40eb-e5ac-59f9d26d5e99"
      },
      "execution_count": null,
      "outputs": [
        {
          "output_type": "execute_result",
          "data": {
            "text/plain": [
              "<matplotlib.axes._subplots.AxesSubplot at 0x7f8360467790>"
            ]
          },
          "metadata": {},
          "execution_count": 11
        },
        {
          "output_type": "display_data",
          "data": {
            "text/plain": [
              "<Figure size 720x576 with 2 Axes>"
            ],
            "image/png": "[encoded data removed]"
          },
          "metadata": {
            "needs_background": "light"
          }
        }
      ]
    },
    {
      "cell_type": "markdown",
      "source": [
        "Możemy zaobserwować dosyć oczywiste korelacje jak np. kwas cytrynowy i wartość pH (odwrotna korelacja) czy gęstość i zawartość cukru. Jednak ciekawszym dla nas elementem jest kolumna 'quality', w której największa wartość pojawia się w zestawieniu z 'alcohol', analogicznie najmniejsza - w zestawieniu z 'volatile acidity'."
      ],
      "metadata": {
        "id": "qBf_xv-SkVmo"
      }
    },
    {
      "cell_type": "markdown",
      "source": [
        "# Modelowanie danych\n",
        "Znormalizujmy dane i podzielmy na train i test."
      ],
      "metadata": {
        "id": "KSURqLMPmmX1"
      }
    },
    {
      "cell_type": "code",
      "source": [
        "X.describe().T[['min', 'max']][:-1].style.background_gradient(cmap='YlGnBu')"
      ],
      "metadata": {
        "colab": {
          "base_uri": "https://localhost:8080/",
          "height": 331
        },
        "id": "MwWAJ9hHomVH",
        "outputId": "93deaa16-60c0-419f-9e1a-9f5886cba891"
      },
      "execution_count": null,
      "outputs": [
        {
          "output_type": "execute_result",
          "data": {
            "text/plain": [
              "<pandas.io.formats.style.Styler at 0x7f835ffd0950>"
            ],
            "text/html": [
              "<style type=\"text/css\">\n",
              "#T_bcb95_row0_col0 {\n",
              "  background-color: #fcfed3;\n",
              "  color: #000000;\n",
              "}\n",
              "#T_bcb95_row0_col1, #T_bcb95_row1_col0, #T_bcb95_row1_col1, #T_bcb95_row3_col0, #T_bcb95_row3_col1, #T_bcb95_row6_col1 {\n",
              "  background-color: #ffffd9;\n",
              "  color: #000000;\n",
              "}\n",
              "#T_bcb95_row2_col0 {\n",
              "  background-color: #e6f5b2;\n",
              "  color: #000000;\n",
              "}\n",
              "#T_bcb95_row2_col1 {\n",
              "  background-color: #f8fcc9;\n",
              "  color: #000000;\n",
              "}\n",
              "#T_bcb95_row4_col0, #T_bcb95_row6_col0 {\n",
              "  background-color: #e1f3b2;\n",
              "  color: #000000;\n",
              "}\n",
              "#T_bcb95_row4_col1 {\n",
              "  background-color: #cdebb4;\n",
              "  color: #000000;\n",
              "}\n",
              "#T_bcb95_row5_col0, #T_bcb95_row5_col1 {\n",
              "  background-color: #081d58;\n",
              "  color: #f1f1f1;\n",
              "}\n",
              "#T_bcb95_row7_col0 {\n",
              "  background-color: #57bec1;\n",
              "  color: #000000;\n",
              "}\n",
              "#T_bcb95_row7_col1 {\n",
              "  background-color: #fdfed5;\n",
              "  color: #000000;\n",
              "}\n",
              "#T_bcb95_row8_col0 {\n",
              "  background-color: #f7fcc7;\n",
              "  color: #000000;\n",
              "}\n",
              "#T_bcb95_row8_col1 {\n",
              "  background-color: #feffd8;\n",
              "  color: #000000;\n",
              "}\n",
              "</style>\n",
              "<table id=\"T_bcb95_\" class=\"dataframe\">\n",
              "  <thead>\n",
              "    <tr>\n",
              "      <th class=\"blank level0\" >&nbsp;</th>\n",
              "      <th class=\"col_heading level0 col0\" >min</th>\n",
              "      <th class=\"col_heading level0 col1\" >max</th>\n",
              "    </tr>\n",
              "  </thead>\n",
              "  <tbody>\n",
              "    <tr>\n",
              "      <th id=\"T_bcb95_level0_row0\" class=\"row_heading level0 row0\" >volatile acidity</th>\n",
              "      <td id=\"T_bcb95_row0_col0\" class=\"data row0 col0\" >0.120000</td>\n",
              "      <td id=\"T_bcb95_row0_col1\" class=\"data row0 col1\" >1.580000</td>\n",
              "    </tr>\n",
              "    <tr>\n",
              "      <th id=\"T_bcb95_level0_row1\" class=\"row_heading level0 row1\" >citric acid</th>\n",
              "      <td id=\"T_bcb95_row1_col0\" class=\"data row1 col0\" >0.000000</td>\n",
              "      <td id=\"T_bcb95_row1_col1\" class=\"data row1 col1\" >1.000000</td>\n",
              "    </tr>\n",
              "    <tr>\n",
              "      <th id=\"T_bcb95_level0_row2\" class=\"row_heading level0 row2\" >residual sugar</th>\n",
              "      <td id=\"T_bcb95_row2_col0\" class=\"data row2 col0\" >0.900000</td>\n",
              "      <td id=\"T_bcb95_row2_col1\" class=\"data row2 col1\" >15.500000</td>\n",
              "    </tr>\n",
              "    <tr>\n",
              "      <th id=\"T_bcb95_level0_row3\" class=\"row_heading level0 row3\" >chlorides</th>\n",
              "      <td id=\"T_bcb95_row3_col0\" class=\"data row3 col0\" >0.012000</td>\n",
              "      <td id=\"T_bcb95_row3_col1\" class=\"data row3 col1\" >0.611000</td>\n",
              "    </tr>\n",
              "    <tr>\n",
              "      <th id=\"T_bcb95_level0_row4\" class=\"row_heading level0 row4\" >free sulfur dioxide</th>\n",
              "      <td id=\"T_bcb95_row4_col0\" class=\"data row4 col0\" >1.000000</td>\n",
              "      <td id=\"T_bcb95_row4_col1\" class=\"data row4 col1\" >68.000000</td>\n",
              "    </tr>\n",
              "    <tr>\n",
              "      <th id=\"T_bcb95_level0_row5\" class=\"row_heading level0 row5\" >total sulfur dioxide</th>\n",
              "      <td id=\"T_bcb95_row5_col0\" class=\"data row5 col0\" >6.000000</td>\n",
              "      <td id=\"T_bcb95_row5_col1\" class=\"data row5 col1\" >289.000000</td>\n",
              "    </tr>\n",
              "    <tr>\n",
              "      <th id=\"T_bcb95_level0_row6\" class=\"row_heading level0 row6\" >density</th>\n",
              "      <td id=\"T_bcb95_row6_col0\" class=\"data row6 col0\" >0.990070</td>\n",
              "      <td id=\"T_bcb95_row6_col1\" class=\"data row6 col1\" >1.003690</td>\n",
              "    </tr>\n",
              "    <tr>\n",
              "      <th id=\"T_bcb95_level0_row7\" class=\"row_heading level0 row7\" >pH</th>\n",
              "      <td id=\"T_bcb95_row7_col0\" class=\"data row7 col0\" >2.740000</td>\n",
              "      <td id=\"T_bcb95_row7_col1\" class=\"data row7 col1\" >4.010000</td>\n",
              "    </tr>\n",
              "    <tr>\n",
              "      <th id=\"T_bcb95_level0_row8\" class=\"row_heading level0 row8\" >sulphates</th>\n",
              "      <td id=\"T_bcb95_row8_col0\" class=\"data row8 col0\" >0.330000</td>\n",
              "      <td id=\"T_bcb95_row8_col1\" class=\"data row8 col1\" >2.000000</td>\n",
              "    </tr>\n",
              "  </tbody>\n",
              "</table>\n"
            ]
          },
          "metadata": {},
          "execution_count": 12
        }
      ]
    },
    {
      "cell_type": "code",
      "source": [
        "from sklearn.preprocessing import StandardScaler\n",
        "scaler=StandardScaler()\n",
        "X_scaled=scaler.fit_transform(X)"
      ],
      "metadata": {
        "id": "t6VskQMpxvCT"
      },
      "execution_count": null,
      "outputs": []
    },
    {
      "cell_type": "code",
      "source": [
        "data_scaled = pd.DataFrame(X_scaled, columns=X.columns)\n",
        "data_scaled.head(10)"
      ],
      "metadata": {
        "colab": {
          "base_uri": "https://localhost:8080/",
          "height": 363
        },
        "id": "juM3uJbmyb4I",
        "outputId": "33d76aa7-e2e0-40f0-c48d-4762b66f7c2c"
      },
      "execution_count": null,
      "outputs": [
        {
          "output_type": "execute_result",
          "data": {
            "text/plain": [
              "   volatile acidity  citric acid  residual sugar  chlorides  \\\n",
              "0          0.491461    -1.374949       -0.572601  -0.234971   \n",
              "1          1.224193    -1.374949        0.021305   0.215321   \n",
              "2          0.735705    -1.179824       -0.233226   0.092514   \n",
              "3         -1.218246     1.356806       -0.572601  -0.255438   \n",
              "4          0.491461    -1.374949       -0.572601  -0.234971   \n",
              "5          0.328632    -1.374949       -0.657445  -0.255438   \n",
              "6          0.084388    -1.082261       -0.827132  -0.378245   \n",
              "7          0.287925    -1.374949       -1.166507  -0.460116   \n",
              "8          0.002974    -1.277387       -0.487757  -0.296374   \n",
              "9          0.002974    -0.984699       -0.657445   0.194853   \n",
              "\n",
              "   free sulfur dioxide  total sulfur dioxide   density        pH  sulphates  \\\n",
              "0            -0.256361             -0.143882  0.611316  1.234945  -0.579530   \n",
              "1             1.208037              0.989121  0.087674 -0.745164   0.117046   \n",
              "2             0.162038              0.542787  0.192403 -0.361917  -0.057098   \n",
              "3             0.371238              0.748787  0.716044 -1.000662  -0.463434   \n",
              "4            -0.256361             -0.143882  0.611316  1.234945  -0.579530   \n",
              "5            -0.047162              0.062119  0.611316  1.234945  -0.579530   \n",
              "6             0.162038              0.714454 -0.121782 -0.106419  -1.160011   \n",
              "7             0.162038             -0.590216 -1.064337  0.468451  -1.101963   \n",
              "8            -0.465561             -0.693217  0.087674  0.276827  -0.521482   \n",
              "9             0.162038              0.920454 -0.383603 -0.234168  -0.695626   \n",
              "\n",
              "    alcohol  \n",
              "0 -1.060680  \n",
              "1 -0.709650  \n",
              "2 -0.709650  \n",
              "3 -0.709650  \n",
              "4 -1.060680  \n",
              "5 -1.060680  \n",
              "6 -1.060680  \n",
              "7 -0.534135  \n",
              "8 -0.972922  \n",
              "9 -1.236195  "
            ],
            "text/html": [
              "\n",
              "  <div id=\"df-29a9c95f-4221-4a2f-8b27-b72612b03973\">\n",
              "    <div class=\"colab-df-container\">\n",
              "      <div>\n",
              "<style scoped>\n",
              "    .dataframe tbody tr th:only-of-type {\n",
              "        vertical-align: middle;\n",
              "    }\n",
              "\n",
              "    .dataframe tbody tr th {\n",
              "        vertical-align: top;\n",
              "    }\n",
              "\n",
              "    .dataframe thead th {\n",
              "        text-align: right;\n",
              "    }\n",
              "</style>\n",
              "<table border=\"1\" class=\"dataframe\">\n",
              "  <thead>\n",
              "    <tr style=\"text-align: right;\">\n",
              "      <th></th>\n",
              "      <th>volatile acidity</th>\n",
              "      <th>citric acid</th>\n",
              "      <th>residual sugar</th>\n",
              "      <th>chlorides</th>\n",
              "      <th>free sulfur dioxide</th>\n",
              "      <th>total sulfur dioxide</th>\n",
              "      <th>density</th>\n",
              "      <th>pH</th>\n",
              "      <th>sulphates</th>\n",
              "      <th>alcohol</th>\n",
              "    </tr>\n",
              "  </thead>\n",
              "  <tbody>\n",
              "    <tr>\n",
              "      <th>0</th>\n",
              "      <td>0.491461</td>\n",
              "      <td>-1.374949</td>\n",
              "      <td>-0.572601</td>\n",
              "      <td>-0.234971</td>\n",
              "      <td>-0.256361</td>\n",
              "      <td>-0.143882</td>\n",
              "      <td>0.611316</td>\n",
              "      <td>1.234945</td>\n",
              "      <td>-0.579530</td>\n",
              "      <td>-1.060680</td>\n",
              "    </tr>\n",
              "    <tr>\n",
              "      <th>1</th>\n",
              "      <td>1.224193</td>\n",
              "      <td>-1.374949</td>\n",
              "      <td>0.021305</td>\n",
              "      <td>0.215321</td>\n",
              "      <td>1.208037</td>\n",
              "      <td>0.989121</td>\n",
              "      <td>0.087674</td>\n",
              "      <td>-0.745164</td>\n",
              "      <td>0.117046</td>\n",
              "      <td>-0.709650</td>\n",
              "    </tr>\n",
              "    <tr>\n",
              "      <th>2</th>\n",
              "      <td>0.735705</td>\n",
              "      <td>-1.179824</td>\n",
              "      <td>-0.233226</td>\n",
              "      <td>0.092514</td>\n",
              "      <td>0.162038</td>\n",
              "      <td>0.542787</td>\n",
              "      <td>0.192403</td>\n",
              "      <td>-0.361917</td>\n",
              "      <td>-0.057098</td>\n",
              "      <td>-0.709650</td>\n",
              "    </tr>\n",
              "    <tr>\n",
              "      <th>3</th>\n",
              "      <td>-1.218246</td>\n",
              "      <td>1.356806</td>\n",
              "      <td>-0.572601</td>\n",
              "      <td>-0.255438</td>\n",
              "      <td>0.371238</td>\n",
              "      <td>0.748787</td>\n",
              "      <td>0.716044</td>\n",
              "      <td>-1.000662</td>\n",
              "      <td>-0.463434</td>\n",
              "      <td>-0.709650</td>\n",
              "    </tr>\n",
              "    <tr>\n",
              "      <th>4</th>\n",
              "      <td>0.491461</td>\n",
              "      <td>-1.374949</td>\n",
              "      <td>-0.572601</td>\n",
              "      <td>-0.234971</td>\n",
              "      <td>-0.256361</td>\n",
              "      <td>-0.143882</td>\n",
              "      <td>0.611316</td>\n",
              "      <td>1.234945</td>\n",
              "      <td>-0.579530</td>\n",
              "      <td>-1.060680</td>\n",
              "    </tr>\n",
              "    <tr>\n",
              "      <th>5</th>\n",
              "      <td>0.328632</td>\n",
              "      <td>-1.374949</td>\n",
              "      <td>-0.657445</td>\n",
              "      <td>-0.255438</td>\n",
              "      <td>-0.047162</td>\n",
              "      <td>0.062119</td>\n",
              "      <td>0.611316</td>\n",
              "      <td>1.234945</td>\n",
              "      <td>-0.579530</td>\n",
              "      <td>-1.060680</td>\n",
              "    </tr>\n",
              "    <tr>\n",
              "      <th>6</th>\n",
              "      <td>0.084388</td>\n",
              "      <td>-1.082261</td>\n",
              "      <td>-0.827132</td>\n",
              "      <td>-0.378245</td>\n",
              "      <td>0.162038</td>\n",
              "      <td>0.714454</td>\n",
              "      <td>-0.121782</td>\n",
              "      <td>-0.106419</td>\n",
              "      <td>-1.160011</td>\n",
              "      <td>-1.060680</td>\n",
              "    </tr>\n",
              "    <tr>\n",
              "      <th>7</th>\n",
              "      <td>0.287925</td>\n",
              "      <td>-1.374949</td>\n",
              "      <td>-1.166507</td>\n",
              "      <td>-0.460116</td>\n",
              "      <td>0.162038</td>\n",
              "      <td>-0.590216</td>\n",
              "      <td>-1.064337</td>\n",
              "      <td>0.468451</td>\n",
              "      <td>-1.101963</td>\n",
              "      <td>-0.534135</td>\n",
              "    </tr>\n",
              "    <tr>\n",
              "      <th>8</th>\n",
              "      <td>0.002974</td>\n",
              "      <td>-1.277387</td>\n",
              "      <td>-0.487757</td>\n",
              "      <td>-0.296374</td>\n",
              "      <td>-0.465561</td>\n",
              "      <td>-0.693217</td>\n",
              "      <td>0.087674</td>\n",
              "      <td>0.276827</td>\n",
              "      <td>-0.521482</td>\n",
              "      <td>-0.972922</td>\n",
              "    </tr>\n",
              "    <tr>\n",
              "      <th>9</th>\n",
              "      <td>0.002974</td>\n",
              "      <td>-0.984699</td>\n",
              "      <td>-0.657445</td>\n",
              "      <td>0.194853</td>\n",
              "      <td>0.162038</td>\n",
              "      <td>0.920454</td>\n",
              "      <td>-0.383603</td>\n",
              "      <td>-0.234168</td>\n",
              "      <td>-0.695626</td>\n",
              "      <td>-1.236195</td>\n",
              "    </tr>\n",
              "  </tbody>\n",
              "</table>\n",
              "</div>\n",
              "      <button class=\"colab-df-convert\" onclick=\"convertToInteractive('df-29a9c95f-4221-4a2f-8b27-b72612b03973')\"\n",
              "              title=\"Convert this dataframe to an interactive table.\"\n",
              "              style=\"display:none;\">\n",
              "        \n",
              "  <svg xmlns=\"http://www.w3.org/2000/svg\" height=\"24px\"viewBox=\"0 0 24 24\"\n",
              "       width=\"24px\">\n",
              "    <path d=\"M0 0h24v24H0V0z\" fill=\"none\"/>\n",
              "    <path d=\"M18.56 5.44l.94 2.06.94-2.06 2.06-.94-2.06-.94-.94-2.06-.94 2.06-2.06.94zm-11 1L8.5 8.5l.94-2.06 2.06-.94-2.06-.94L8.5 2.5l-.94 2.06-2.06.94zm10 10l.94 2.06.94-2.06 2.06-.94-2.06-.94-.94-2.06-.94 2.06-2.06.94z\"/><path d=\"M17.41 7.96l-1.37-1.37c-.4-.4-.92-.59-1.43-.59-.52 0-1.04.2-1.43.59L10.3 9.45l-7.72 7.72c-.78.78-.78 2.05 0 2.83L4 21.41c.39.39.9.59 1.41.59.51 0 1.02-.2 1.41-.59l7.78-7.78 2.81-2.81c.8-.78.8-2.07 0-2.86zM5.41 20L4 18.59l7.72-7.72 1.47 1.35L5.41 20z\"/>\n",
              "  </svg>\n",
              "      </button>\n",
              "      \n",
              "  <style>\n",
              "    .colab-df-container {\n",
              "      display:flex;\n",
              "      flex-wrap:wrap;\n",
              "      gap: 12px;\n",
              "    }\n",
              "\n",
              "    .colab-df-convert {\n",
              "      background-color: #E8F0FE;\n",
              "      border: none;\n",
              "      border-radius: 50%;\n",
              "      cursor: pointer;\n",
              "      display: none;\n",
              "      fill: #1967D2;\n",
              "      height: 32px;\n",
              "      padding: 0 0 0 0;\n",
              "      width: 32px;\n",
              "    }\n",
              "\n",
              "    .colab-df-convert:hover {\n",
              "      background-color: #E2EBFA;\n",
              "      box-shadow: 0px 1px 2px rgba(60, 64, 67, 0.3), 0px 1px 3px 1px rgba(60, 64, 67, 0.15);\n",
              "      fill: #174EA6;\n",
              "    }\n",
              "\n",
              "    [theme=dark] .colab-df-convert {\n",
              "      background-color: #3B4455;\n",
              "      fill: #D2E3FC;\n",
              "    }\n",
              "\n",
              "    [theme=dark] .colab-df-convert:hover {\n",
              "      background-color: #434B5C;\n",
              "      box-shadow: 0px 1px 3px 1px rgba(0, 0, 0, 0.15);\n",
              "      filter: drop-shadow(0px 1px 2px rgba(0, 0, 0, 0.3));\n",
              "      fill: #FFFFFF;\n",
              "    }\n",
              "  </style>\n",
              "\n",
              "      <script>\n",
              "        const buttonEl =\n",
              "          document.querySelector('#df-29a9c95f-4221-4a2f-8b27-b72612b03973 button.colab-df-convert');\n",
              "        buttonEl.style.display =\n",
              "          google.colab.kernel.accessAllowed ? 'block' : 'none';\n",
              "\n",
              "        async function convertToInteractive(key) {\n",
              "          const element = document.querySelector('#df-29a9c95f-4221-4a2f-8b27-b72612b03973');\n",
              "          const dataTable =\n",
              "            await google.colab.kernel.invokeFunction('convertToInteractive',\n",
              "                                                     [key], {});\n",
              "          if (!dataTable) return;\n",
              "\n",
              "          const docLinkHtml = 'Like what you see? Visit the ' +\n",
              "            '<a target=\"_blank\" href=https://colab.research.google.com/notebooks/data_table.ipynb>data table notebook</a>'\n",
              "            + ' to learn more about interactive tables.';\n",
              "          element.innerHTML = '';\n",
              "          dataTable['output_type'] = 'display_data';\n",
              "          await google.colab.output.renderOutput(dataTable, element);\n",
              "          const docLink = document.createElement('div');\n",
              "          docLink.innerHTML = docLinkHtml;\n",
              "          element.appendChild(docLink);\n",
              "        }\n",
              "      </script>\n",
              "    </div>\n",
              "  </div>\n",
              "  "
            ]
          },
          "metadata": {},
          "execution_count": 14
        }
      ]
    },
    {
      "cell_type": "code",
      "source": [
        "X = X_scaled\n",
        "X.shape, y.shape"
      ],
      "metadata": {
        "colab": {
          "base_uri": "https://localhost:8080/"
        },
        "id": "Jba9FgVlzevJ",
        "outputId": "c5df7d47-60ce-4c4a-b9b2-e85f3d6e40d0"
      },
      "execution_count": null,
      "outputs": [
        {
          "output_type": "execute_result",
          "data": {
            "text/plain": [
              "((2335, 10), (2335,))"
            ]
          },
          "metadata": {},
          "execution_count": 15
        }
      ]
    },
    {
      "cell_type": "code",
      "source": [
        "from sklearn.model_selection import train_test_split\n",
        "X_train, X_test, y_train, y_test = train_test_split(X, y, test_size=0.4, random_state=42)"
      ],
      "metadata": {
        "id": "BbRcxtO8zxZs"
      },
      "execution_count": null,
      "outputs": []
    },
    {
      "cell_type": "code",
      "source": [
        "print(X_train.shape, y_train.shape)\n",
        "print(X_test.shape, y_test.shape)"
      ],
      "metadata": {
        "colab": {
          "base_uri": "https://localhost:8080/"
        },
        "id": "YRPzMCpVFiz3",
        "outputId": "18daaf03-3e91-41eb-da93-817917d1c7c1"
      },
      "execution_count": null,
      "outputs": [
        {
          "output_type": "stream",
          "name": "stdout",
          "text": [
            "(1401, 10) (1401,)\n",
            "(934, 10) (934,)\n"
          ]
        }
      ]
    },
    {
      "cell_type": "markdown",
      "source": [
        "# Modele proste\n",
        "\n",
        "\n",
        "*   rbf SVM\n",
        "*   Linear SVM\n",
        "*   LogisticRegression\n",
        "*   DecisionTreeClassifier\n",
        "*   RandomForestClassifier\n",
        "*   BaggingClassifier\n",
        "*   ExtraTreesClassifier.\n",
        "*   AdaBoostClassifier\n",
        "*   GradientBoostingClassifier\n",
        "\n",
        "\n",
        "\n",
        "\n",
        "\n",
        "\n",
        "\n",
        "\n",
        "\n",
        "\n",
        "\n",
        "\n",
        "\n"
      ],
      "metadata": {
        "id": "lDWtY8OO3IvA"
      }
    },
    {
      "cell_type": "code",
      "source": [
        "from sklearn.model_selection import GridSearchCV\n",
        "from sklearn.preprocessing import StandardScaler\n",
        "from sklearn.pipeline import Pipeline\n",
        "\n",
        "from sklearn.svm import SVC\n",
        "from sklearn.linear_model import LogisticRegression\n",
        "from sklearn.neighbors import KNeighborsClassifier\n",
        "from sklearn.tree import DecisionTreeClassifier\n",
        "from sklearn.ensemble import RandomForestClassifier, ExtraTreesClassifier, BaggingClassifier, AdaBoostClassifier, GradientBoostingClassifier\n",
        "\n",
        "from sklearn.model_selection import StratifiedKFold\n",
        "\n",
        "seed=123\n",
        "kfold = StratifiedKFold(n_splits=5, shuffle = True, random_state=seed)"
      ],
      "metadata": {
        "id": "3LKTUmpj30qW"
      },
      "execution_count": null,
      "outputs": []
    },
    {
      "cell_type": "code",
      "source": [
        "from sklearn import  metrics\n",
        "models = []"
      ],
      "metadata": {
        "id": "841k8BhP8w5R"
      },
      "execution_count": null,
      "outputs": []
    },
    {
      "cell_type": "markdown",
      "source": [
        "Model SVM z jądrem rbf:"
      ],
      "metadata": {
        "id": "QPlRslvP4FKv"
      }
    },
    {
      "cell_type": "code",
      "source": [
        "pipeline1 = Pipeline([('preprocessing', StandardScaler()), ('classifier', SVC(kernel='rbf', probability = True))])\n",
        "\n",
        "param_grid_1 = {\n",
        "            'preprocessing': [StandardScaler(), None],\n",
        "            'classifier__gamma': [0.01, 0.1, 1, 10, 100, 1000],\n",
        "            'classifier__C': [0.01, 0.1, 1, 10, 100, 1000]\n",
        "}\n",
        "\n",
        "grid_1 = GridSearchCV(pipeline1, param_grid_1, cv=kfold, return_train_score=True)\n",
        "\n",
        "grid_1.fit(X_train, y_train)\n",
        "grid_1.best_params_"
      ],
      "metadata": {
        "colab": {
          "base_uri": "https://localhost:8080/"
        },
        "id": "zQarHoA54GL0",
        "outputId": "926e2365-9cdd-467a-c226-8ec4eb4a69d7"
      },
      "execution_count": null,
      "outputs": [
        {
          "output_type": "execute_result",
          "data": {
            "text/plain": [
              "{'classifier__C': 10,\n",
              " 'classifier__gamma': 1,\n",
              " 'preprocessing': StandardScaler()}"
            ]
          },
          "metadata": {},
          "execution_count": 20
        }
      ]
    },
    {
      "cell_type": "markdown",
      "source": [
        "Model SVM z jądrem linear."
      ],
      "metadata": {
        "id": "NMnyDbKyBqc5"
      }
    },
    {
      "cell_type": "code",
      "source": [
        "pipeline_2 = Pipeline([('preprocessing', StandardScaler()), ('classifier', SVC(kernel=\"linear\", probability=True))])\n",
        "\n",
        "param_grid_2 = {\n",
        "            'preprocessing': [StandardScaler(), None],\n",
        "            'classifier__C': [0.1, 1, 10, 100],\n",
        "            'classifier__tol': [1e-4, 1e-3, 1e-2, 1e-1]\n",
        "}\n",
        "grid_2 = GridSearchCV(pipeline_2, param_grid_2, cv=kfold, return_train_score=True)\n",
        "\n",
        "grid_2.fit(X_train, y_train)\n",
        "grid_2.best_params_"
      ],
      "metadata": {
        "colab": {
          "base_uri": "https://localhost:8080/"
        },
        "id": "6EAm5HzaBq9u",
        "outputId": "c584c8ee-5caf-44db-acb8-6ebb101b7ca4"
      },
      "execution_count": null,
      "outputs": [
        {
          "output_type": "execute_result",
          "data": {
            "text/plain": [
              "{'classifier__C': 100,\n",
              " 'classifier__tol': 0.01,\n",
              " 'preprocessing': StandardScaler()}"
            ]
          },
          "metadata": {},
          "execution_count": 21
        }
      ]
    },
    {
      "cell_type": "markdown",
      "source": [
        "\n",
        "\n",
        "Regresja logistyczna.\n"
      ],
      "metadata": {
        "id": "EIl4NkhdBu3W"
      }
    },
    {
      "cell_type": "code",
      "source": [
        "pipeline_3 = Pipeline([('preprocessing', StandardScaler()), ('classifier', LogisticRegression(n_jobs=-1))])\n",
        "\n",
        "param_grid_3 = {\n",
        "            'preprocessing': [StandardScaler(), None],\n",
        "            'classifier__C': [0.01, 0.1, 1, 10, 100, 1000]\n",
        "}\n",
        "\n",
        "grid_3 = GridSearchCV(pipeline_3, param_grid_3, cv=kfold, return_train_score=True) \n",
        "grid_3.fit(X_train, y_train)\n",
        "grid_3.best_params_"
      ],
      "metadata": {
        "id": "HlnX4yhnHZs_",
        "colab": {
          "base_uri": "https://localhost:8080/"
        },
        "outputId": "f4fd7539-824b-4635-8fa2-02e7044b5007"
      },
      "execution_count": null,
      "outputs": [
        {
          "output_type": "execute_result",
          "data": {
            "text/plain": [
              "{'classifier__C': 100, 'preprocessing': None}"
            ]
          },
          "metadata": {},
          "execution_count": 22
        }
      ]
    },
    {
      "cell_type": "markdown",
      "source": [
        "DecisionTreeClassifier."
      ],
      "metadata": {
        "id": "T6_eKZuZMMQS"
      }
    },
    {
      "cell_type": "code",
      "source": [
        "pipeline_4 = Pipeline([('preprocessing', StandardScaler()), ('classifier', DecisionTreeClassifier())])\n",
        "\n",
        "param_grid_4 = {\n",
        "            'preprocessing': [StandardScaler(), None],\n",
        "            'classifier__max_depth': [1, 5, 10, 20],\n",
        "            'classifier__max_leaf_nodes': [None, 5, 10, 20, 50, 100],\n",
        "}\n",
        "\n",
        "grid_4 = GridSearchCV(pipeline_4, param_grid_4, cv=kfold, return_train_score=True)\n",
        "\n",
        "grid_4.fit(X_train, y_train)\n",
        "grid_4.best_params_"
      ],
      "metadata": {
        "colab": {
          "base_uri": "https://localhost:8080/"
        },
        "id": "O0ZEtm2DMM1x",
        "outputId": "bd2c1431-5e5c-4713-b979-572f25d8b9bc"
      },
      "execution_count": null,
      "outputs": [
        {
          "output_type": "execute_result",
          "data": {
            "text/plain": [
              "{'classifier__max_depth': 20,\n",
              " 'classifier__max_leaf_nodes': None,\n",
              " 'preprocessing': StandardScaler()}"
            ]
          },
          "metadata": {},
          "execution_count": 23
        }
      ]
    },
    {
      "cell_type": "markdown",
      "source": [
        "RandomForestClassifier."
      ],
      "metadata": {
        "id": "fB1QSKUXPIuj"
      }
    },
    {
      "cell_type": "code",
      "source": [
        "pipeline_5 = Pipeline([('preprocessing', StandardScaler()), ('classifier', RandomForestClassifier(n_jobs=-1))])\n",
        "\n",
        "param_grid_5 = {\n",
        "            'preprocessing': [StandardScaler(), None],\n",
        "            'classifier__n_estimators' : [1, 3, 5, 10, 50],\n",
        "            'classifier__max_leaf_nodes' : [2, 4, 8, 16, 32, 64],\n",
        "}\n",
        "\n",
        "grid_5 = GridSearchCV(pipeline_5, param_grid_5, cv=kfold, return_train_score=True)\n",
        "\n",
        "grid_5.fit(X_train, y_train)\n",
        "grid_5.best_params_"
      ],
      "metadata": {
        "colab": {
          "base_uri": "https://localhost:8080/"
        },
        "id": "8TN7m8ZEPKYZ",
        "outputId": "6c1debc1-41bf-490f-cdb9-2590bedfbb56"
      },
      "execution_count": null,
      "outputs": [
        {
          "output_type": "execute_result",
          "data": {
            "text/plain": [
              "{'classifier__max_leaf_nodes': 64,\n",
              " 'classifier__n_estimators': 50,\n",
              " 'preprocessing': None}"
            ]
          },
          "metadata": {},
          "execution_count": 24
        }
      ]
    },
    {
      "cell_type": "markdown",
      "source": [
        "BaggingClassifier."
      ],
      "metadata": {
        "id": "k4q-ITHKQUKK"
      }
    },
    {
      "cell_type": "code",
      "source": [
        "pipeline_6 = Pipeline([('preprocessing', StandardScaler()), ('classifier', BaggingClassifier())])\n",
        "\n",
        "param_grid_6 = {\n",
        "            'preprocessing': [StandardScaler(), None],\n",
        "            'classifier__max_samples' : [0.05, 0.1, 0.2, 0.5, 0.7, 1]\n",
        "}\n",
        "\n",
        "grid_6 = GridSearchCV(pipeline_6, param_grid_6, cv=kfold, return_train_score=True)\n",
        "\n",
        "grid_6.fit(X_train, y_train)\n",
        "grid_6.best_params_"
      ],
      "metadata": {
        "colab": {
          "base_uri": "https://localhost:8080/"
        },
        "id": "9SOd3KZoQV76",
        "outputId": "85384a95-3134-445b-92cc-6742d8baf99d"
      },
      "execution_count": null,
      "outputs": [
        {
          "output_type": "execute_result",
          "data": {
            "text/plain": [
              "{'classifier__max_samples': 0.7, 'preprocessing': StandardScaler()}"
            ]
          },
          "metadata": {},
          "execution_count": 25
        }
      ]
    },
    {
      "cell_type": "markdown",
      "source": [
        "ExtraTreesClassifier."
      ],
      "metadata": {
        "id": "mefjQRvNRKOQ"
      }
    },
    {
      "cell_type": "code",
      "source": [
        "pipeline_7 = Pipeline([('preprocessing', StandardScaler()), ('classifier', ExtraTreesClassifier(n_jobs=-1))])\n",
        "\n",
        "param_grid_7 = {\n",
        "            'preprocessing': [StandardScaler(), None],\n",
        "            'classifier__n_estimators' : [5, 10, 50, 100],\n",
        "            'classifier__max_leaf_nodes' : [2, 4, 8, 16, 32, 64],\n",
        "}\n",
        "\n",
        "grid_7 = GridSearchCV(pipeline_7, param_grid_7, cv=kfold, return_train_score=True)\n",
        "\n",
        "grid_7.fit(X_train, y_train)\n",
        "grid_7.best_params_"
      ],
      "metadata": {
        "colab": {
          "base_uri": "https://localhost:8080/"
        },
        "id": "_hyC96CaRNLZ",
        "outputId": "1a8c3692-543b-4a05-b9f0-2bb896dcc57b"
      },
      "execution_count": null,
      "outputs": [
        {
          "output_type": "execute_result",
          "data": {
            "text/plain": [
              "{'classifier__max_leaf_nodes': 64,\n",
              " 'classifier__n_estimators': 100,\n",
              " 'preprocessing': StandardScaler()}"
            ]
          },
          "metadata": {},
          "execution_count": 26
        }
      ]
    },
    {
      "cell_type": "markdown",
      "source": [
        "AdaBoostClassifier."
      ],
      "metadata": {
        "id": "KbHwYk3bSgmZ"
      }
    },
    {
      "cell_type": "code",
      "source": [
        "pipeline_8 = Pipeline([('preprocessing', StandardScaler()), ('classifier', AdaBoostClassifier())])\n",
        "\n",
        "param_grid_8 = {\n",
        "            'preprocessing': [StandardScaler(), None],\n",
        "            'classifier__n_estimators' : [5, 10, 50, 100, 500, 600, 700],\n",
        "            'classifier__learning_rate' : [0.001, 0.01, 0.1, 0.5, 0.7, 1],\n",
        "}\n",
        "\n",
        "grid_8 = GridSearchCV(pipeline_8, param_grid_8, cv=kfold, return_train_score=True)\n",
        "\n",
        "grid_8.fit(X_train, y_train)\n",
        "grid_8.best_params_"
      ],
      "metadata": {
        "colab": {
          "base_uri": "https://localhost:8080/"
        },
        "id": "t28LP-nSSiNk",
        "outputId": "6a4ec5b5-56ae-4315-cecf-78cc9c5e6f96"
      },
      "execution_count": null,
      "outputs": [
        {
          "output_type": "execute_result",
          "data": {
            "text/plain": [
              "{'classifier__learning_rate': 0.1,\n",
              " 'classifier__n_estimators': 5,\n",
              " 'preprocessing': StandardScaler()}"
            ]
          },
          "metadata": {},
          "execution_count": 27
        }
      ]
    },
    {
      "cell_type": "markdown",
      "source": [
        "GradientBoostingClassifier."
      ],
      "metadata": {
        "id": "L1Jt8K-nSofg"
      }
    },
    {
      "cell_type": "code",
      "source": [
        "pipeline_9 = Pipeline([('preprocessing', StandardScaler()), ('classifier', GradientBoostingClassifier())])\n",
        "\n",
        "param_grid_9 = {\n",
        "            'preprocessing': [StandardScaler(), None],\n",
        "            'classifier__n_estimators' : [5, 10, 50, 100, 500],\n",
        "            'classifier__learning_rate' : [0.001, 0.01, 0.1, 0.5, 0.7, 1],\n",
        "}\n",
        "\n",
        "grid_9 = GridSearchCV(pipeline_9, param_grid_9, cv=kfold, return_train_score=True)\n",
        "\n",
        "grid_9.fit(X_train, y_train)\n",
        "grid_9.best_params_"
      ],
      "metadata": {
        "colab": {
          "base_uri": "https://localhost:8080/"
        },
        "id": "UuwOJUhzSsgL",
        "outputId": "2ade4940-b6c2-4e04-95bf-9e987d9a74a0"
      },
      "execution_count": null,
      "outputs": [
        {
          "output_type": "execute_result",
          "data": {
            "text/plain": [
              "{'classifier__learning_rate': 0.5,\n",
              " 'classifier__n_estimators': 100,\n",
              " 'preprocessing': StandardScaler()}"
            ]
          },
          "metadata": {},
          "execution_count": 28
        }
      ]
    },
    {
      "cell_type": "markdown",
      "source": [
        "# Porównanie modeli"
      ],
      "metadata": {
        "id": "214IhBF8Sx5d"
      }
    },
    {
      "cell_type": "code",
      "source": [
        "models.append(('SVM rbf', grid_1.best_estimator_))\n",
        "models.append(('SVM linear', grid_2.best_estimator_))\n",
        "models.append(('Logistic regression', grid_3.best_estimator_))\n",
        "models.append(('DecisionTreeClassifier', grid_4.best_estimator_))\n",
        "models.append(('RandomForestClassifier', grid_5.best_estimator_))\n",
        "models.append(('BaggingClassifier', grid_6.best_estimator_))\n",
        "models.append(('ExtraTreesClassifier', grid_7.best_estimator_))\n",
        "models.append(('AdaBoostClassifier', grid_8.best_estimator_))\n",
        "models.append(('GradientBoostingClassifier', grid_9.best_estimator_))\n",
        "\n",
        "def get_scores(name, model):\n",
        "    precision_score = metrics.precision_score(y_test, model.predict(X_test), average='micro')\n",
        "    recall_score = metrics.recall_score(y_test, model.predict(X_test), average='micro')\n",
        "    f1_score = metrics.f1_score(y_test, model.predict(X_test), average='micro')\n",
        "    accuracy_score = metrics.accuracy_score(y_test, model.predict(X_test))\n",
        "\n",
        "    return dict(method=name, precision=precision_score, recall=recall_score, f1=f1_score, accuracy=accuracy_score)\n",
        "\n",
        "def print_scores(scores):\n",
        "    print(scores['method'])\n",
        "    print(\"R^2: {}\".format(scores['precision']))\n",
        "    print(\"recall_score: {}\".format(scores['recall']))\n",
        "    print(\"f1_score: {}\".format(scores['f1']))\n",
        "    print(\"accuracy_score: {}\".format(scores['accuracy']))"
      ],
      "metadata": {
        "id": "jEi99NKaS0WE"
      },
      "execution_count": null,
      "outputs": []
    },
    {
      "cell_type": "code",
      "source": [
        "scores_1 = get_scores(*models[-1])\n",
        "scores_2 = get_scores(*models[-2])\n",
        "scores_3 = get_scores(*models[-3])\n",
        "scores_4 = get_scores(*models[-4])\n",
        "scores_5 = get_scores(*models[-5])\n",
        "scores_6 = get_scores(*models[-6])\n",
        "scores_7 = get_scores(*models[-7])\n",
        "scores_8 = get_scores(*models[-8])\n",
        "scores_9 = get_scores(*models[-9])\n",
        "\n",
        "summary = pd.DataFrame(data=scores_1, index=[0])\n",
        "summary.loc[1] = scores_2\n",
        "summary.loc[2] = scores_3\n",
        "summary.loc[3] = scores_4\n",
        "summary.loc[4] = scores_5\n",
        "summary.loc[5] = scores_6\n",
        "summary.loc[6] = scores_7\n",
        "summary.loc[7] = scores_8\n",
        "summary.loc[8] = scores_9\n",
        "summary"
      ],
      "metadata": {
        "colab": {
          "base_uri": "https://localhost:8080/",
          "height": 331
        },
        "id": "WQmcHIa4T2f6",
        "outputId": "099df174-57e3-4d72-dd87-b7835c20ab7b"
      },
      "execution_count": null,
      "outputs": [
        {
          "output_type": "execute_result",
          "data": {
            "text/plain": [
              "                       method  precision    recall        f1  accuracy\n",
              "0  GradientBoostingClassifier   0.790150  0.790150  0.790150  0.790150\n",
              "1          AdaBoostClassifier   0.404711  0.404711  0.404711  0.404711\n",
              "2        ExtraTreesClassifier   0.759101  0.759101  0.759101  0.759101\n",
              "3           BaggingClassifier   0.759101  0.759101  0.759101  0.759101\n",
              "4      RandomForestClassifier   0.767666  0.767666  0.767666  0.767666\n",
              "5      DecisionTreeClassifier   0.702355  0.702355  0.702355  0.702355\n",
              "6         Logistic regression   0.611349  0.611349  0.611349  0.611349\n",
              "7                  SVM linear   0.632762  0.632762  0.632762  0.632762\n",
              "8                     SVM rbf   0.825482  0.825482  0.825482  0.825482"
            ],
            "text/html": [
              "\n",
              "  <div id=\"df-2f9c6371-b55b-4752-934c-632398f98a10\">\n",
              "    <div class=\"colab-df-container\">\n",
              "      <div>\n",
              "<style scoped>\n",
              "    .dataframe tbody tr th:only-of-type {\n",
              "        vertical-align: middle;\n",
              "    }\n",
              "\n",
              "    .dataframe tbody tr th {\n",
              "        vertical-align: top;\n",
              "    }\n",
              "\n",
              "    .dataframe thead th {\n",
              "        text-align: right;\n",
              "    }\n",
              "</style>\n",
              "<table border=\"1\" class=\"dataframe\">\n",
              "  <thead>\n",
              "    <tr style=\"text-align: right;\">\n",
              "      <th></th>\n",
              "      <th>method</th>\n",
              "      <th>precision</th>\n",
              "      <th>recall</th>\n",
              "      <th>f1</th>\n",
              "      <th>accuracy</th>\n",
              "    </tr>\n",
              "  </thead>\n",
              "  <tbody>\n",
              "    <tr>\n",
              "      <th>0</th>\n",
              "      <td>GradientBoostingClassifier</td>\n",
              "      <td>0.790150</td>\n",
              "      <td>0.790150</td>\n",
              "      <td>0.790150</td>\n",
              "      <td>0.790150</td>\n",
              "    </tr>\n",
              "    <tr>\n",
              "      <th>1</th>\n",
              "      <td>AdaBoostClassifier</td>\n",
              "      <td>0.404711</td>\n",
              "      <td>0.404711</td>\n",
              "      <td>0.404711</td>\n",
              "      <td>0.404711</td>\n",
              "    </tr>\n",
              "    <tr>\n",
              "      <th>2</th>\n",
              "      <td>ExtraTreesClassifier</td>\n",
              "      <td>0.759101</td>\n",
              "      <td>0.759101</td>\n",
              "      <td>0.759101</td>\n",
              "      <td>0.759101</td>\n",
              "    </tr>\n",
              "    <tr>\n",
              "      <th>3</th>\n",
              "      <td>BaggingClassifier</td>\n",
              "      <td>0.759101</td>\n",
              "      <td>0.759101</td>\n",
              "      <td>0.759101</td>\n",
              "      <td>0.759101</td>\n",
              "    </tr>\n",
              "    <tr>\n",
              "      <th>4</th>\n",
              "      <td>RandomForestClassifier</td>\n",
              "      <td>0.767666</td>\n",
              "      <td>0.767666</td>\n",
              "      <td>0.767666</td>\n",
              "      <td>0.767666</td>\n",
              "    </tr>\n",
              "    <tr>\n",
              "      <th>5</th>\n",
              "      <td>DecisionTreeClassifier</td>\n",
              "      <td>0.702355</td>\n",
              "      <td>0.702355</td>\n",
              "      <td>0.702355</td>\n",
              "      <td>0.702355</td>\n",
              "    </tr>\n",
              "    <tr>\n",
              "      <th>6</th>\n",
              "      <td>Logistic regression</td>\n",
              "      <td>0.611349</td>\n",
              "      <td>0.611349</td>\n",
              "      <td>0.611349</td>\n",
              "      <td>0.611349</td>\n",
              "    </tr>\n",
              "    <tr>\n",
              "      <th>7</th>\n",
              "      <td>SVM linear</td>\n",
              "      <td>0.632762</td>\n",
              "      <td>0.632762</td>\n",
              "      <td>0.632762</td>\n",
              "      <td>0.632762</td>\n",
              "    </tr>\n",
              "    <tr>\n",
              "      <th>8</th>\n",
              "      <td>SVM rbf</td>\n",
              "      <td>0.825482</td>\n",
              "      <td>0.825482</td>\n",
              "      <td>0.825482</td>\n",
              "      <td>0.825482</td>\n",
              "    </tr>\n",
              "  </tbody>\n",
              "</table>\n",
              "</div>\n",
              "      <button class=\"colab-df-convert\" onclick=\"convertToInteractive('df-2f9c6371-b55b-4752-934c-632398f98a10')\"\n",
              "              title=\"Convert this dataframe to an interactive table.\"\n",
              "              style=\"display:none;\">\n",
              "        \n",
              "  <svg xmlns=\"http://www.w3.org/2000/svg\" height=\"24px\"viewBox=\"0 0 24 24\"\n",
              "       width=\"24px\">\n",
              "    <path d=\"M0 0h24v24H0V0z\" fill=\"none\"/>\n",
              "    <path d=\"M18.56 5.44l.94 2.06.94-2.06 2.06-.94-2.06-.94-.94-2.06-.94 2.06-2.06.94zm-11 1L8.5 8.5l.94-2.06 2.06-.94-2.06-.94L8.5 2.5l-.94 2.06-2.06.94zm10 10l.94 2.06.94-2.06 2.06-.94-2.06-.94-.94-2.06-.94 2.06-2.06.94z\"/><path d=\"M17.41 7.96l-1.37-1.37c-.4-.4-.92-.59-1.43-.59-.52 0-1.04.2-1.43.59L10.3 9.45l-7.72 7.72c-.78.78-.78 2.05 0 2.83L4 21.41c.39.39.9.59 1.41.59.51 0 1.02-.2 1.41-.59l7.78-7.78 2.81-2.81c.8-.78.8-2.07 0-2.86zM5.41 20L4 18.59l7.72-7.72 1.47 1.35L5.41 20z\"/>\n",
              "  </svg>\n",
              "      </button>\n",
              "      \n",
              "  <style>\n",
              "    .colab-df-container {\n",
              "      display:flex;\n",
              "      flex-wrap:wrap;\n",
              "      gap: 12px;\n",
              "    }\n",
              "\n",
              "    .colab-df-convert {\n",
              "      background-color: #E8F0FE;\n",
              "      border: none;\n",
              "      border-radius: 50%;\n",
              "      cursor: pointer;\n",
              "      display: none;\n",
              "      fill: #1967D2;\n",
              "      height: 32px;\n",
              "      padding: 0 0 0 0;\n",
              "      width: 32px;\n",
              "    }\n",
              "\n",
              "    .colab-df-convert:hover {\n",
              "      background-color: #E2EBFA;\n",
              "      box-shadow: 0px 1px 2px rgba(60, 64, 67, 0.3), 0px 1px 3px 1px rgba(60, 64, 67, 0.15);\n",
              "      fill: #174EA6;\n",
              "    }\n",
              "\n",
              "    [theme=dark] .colab-df-convert {\n",
              "      background-color: #3B4455;\n",
              "      fill: #D2E3FC;\n",
              "    }\n",
              "\n",
              "    [theme=dark] .colab-df-convert:hover {\n",
              "      background-color: #434B5C;\n",
              "      box-shadow: 0px 1px 3px 1px rgba(0, 0, 0, 0.15);\n",
              "      filter: drop-shadow(0px 1px 2px rgba(0, 0, 0, 0.3));\n",
              "      fill: #FFFFFF;\n",
              "    }\n",
              "  </style>\n",
              "\n",
              "      <script>\n",
              "        const buttonEl =\n",
              "          document.querySelector('#df-2f9c6371-b55b-4752-934c-632398f98a10 button.colab-df-convert');\n",
              "        buttonEl.style.display =\n",
              "          google.colab.kernel.accessAllowed ? 'block' : 'none';\n",
              "\n",
              "        async function convertToInteractive(key) {\n",
              "          const element = document.querySelector('#df-2f9c6371-b55b-4752-934c-632398f98a10');\n",
              "          const dataTable =\n",
              "            await google.colab.kernel.invokeFunction('convertToInteractive',\n",
              "                                                     [key], {});\n",
              "          if (!dataTable) return;\n",
              "\n",
              "          const docLinkHtml = 'Like what you see? Visit the ' +\n",
              "            '<a target=\"_blank\" href=https://colab.research.google.com/notebooks/data_table.ipynb>data table notebook</a>'\n",
              "            + ' to learn more about interactive tables.';\n",
              "          element.innerHTML = '';\n",
              "          dataTable['output_type'] = 'display_data';\n",
              "          await google.colab.output.renderOutput(dataTable, element);\n",
              "          const docLink = document.createElement('div');\n",
              "          docLink.innerHTML = docLinkHtml;\n",
              "          element.appendChild(docLink);\n",
              "        }\n",
              "      </script>\n",
              "    </div>\n",
              "  </div>\n",
              "  "
            ]
          },
          "metadata": {},
          "execution_count": 37
        }
      ]
    },
    {
      "cell_type": "code",
      "source": [
        "accuracies = { \n",
        "    'Models' : [' \tGradientBoostingClassifier', 'AdaBoostClassifier', 'ExtraTreesClassifier', 'BaggingClassifier', 'RandomForestClassifier', 'DecisionTreeClassifier', 'Logistic regression', 'SVM linear', 'SVM rbf'],\n",
        "    'Accuracy' : [0.790150,0.404711, 0.759101, 0.759101, 0.767666,  0.702355, 0.611349, 0.632762, 0.825482]\n",
        "}\n",
        "\n",
        "accuracy_df = pd.DataFrame(data = accuracies)\n",
        "accuracy_df.set_index(\"Models\", inplace = True)\n",
        "\n",
        "accuracy_df.plot.barh(figsize = (10,8), color = 'skyblue')\n",
        "plt.title(\"Models and Accuracies\")\n",
        "plt.xlabel(\"Accuracies\")"
      ],
      "metadata": {
        "colab": {
          "base_uri": "https://localhost:8080/",
          "height": 659
        },
        "id": "qM0P-9xLn8vI",
        "outputId": "556415a8-8b09-40c3-af95-f94002aa91d7"
      },
      "execution_count": 52,
      "outputs": [
        {
          "output_type": "execute_result",
          "data": {
            "text/plain": [
              "Text(0.5, 0, 'Accuracies')"
            ]
          },
          "metadata": {},
          "execution_count": 52
        },
        {
          "output_type": "stream",
          "name": "stderr",
          "text": [
            "/usr/local/lib/python3.7/dist-packages/matplotlib/backends/backend_agg.py:214: RuntimeWarning:\n",
            "\n",
            "Glyph 9 missing from current font.\n",
            "\n",
            "/usr/local/lib/python3.7/dist-packages/matplotlib/backends/backend_agg.py:183: RuntimeWarning:\n",
            "\n",
            "Glyph 9 missing from current font.\n",
            "\n"
          ]
        },
        {
          "output_type": "display_data",
          "data": {
            "text/plain": [
              "<Figure size 720x576 with 1 Axes>"
            ],
            "image/png": "[encoded data removed]"
          },
          "metadata": {
            "needs_background": "light"
          }
        }
      ]
    },
    {
      "cell_type": "markdown",
      "source": [
        "Widzimy, że największą wartość accuracy otrzymał model SVM z jądrem rbf, przy czym podobny wynik ma też Gradient Boosting Classifier.\n",
        "Najgorzej przedstawia się Ada Boost Classifier.\n",
        "\n",
        "Poniżej Confusion Matrix dla SVM rbf:"
      ],
      "metadata": {
        "id": "Me7v8ePapuEy"
      }
    },
    {
      "cell_type": "code",
      "source": [
        "from sklearn.metrics import plot_confusion_matrix\n",
        "plot_confusion_matrix(grid_1, X_test, y_test)\n",
        "plt.title('Confusion Matrix')"
      ],
      "metadata": {
        "colab": {
          "base_uri": "https://localhost:8080/",
          "height": 408
        },
        "id": "QhHyLa65rHxP",
        "outputId": "5b17d161-4ff9-48e9-ea84-3849d5a5f2d7"
      },
      "execution_count": 53,
      "outputs": [
        {
          "output_type": "stream",
          "name": "stderr",
          "text": [
            "/usr/local/lib/python3.7/dist-packages/sklearn/utils/deprecation.py:87: FutureWarning:\n",
            "\n",
            "Function plot_confusion_matrix is deprecated; Function `plot_confusion_matrix` is deprecated in 1.0 and will be removed in 1.2. Use one of the class methods: ConfusionMatrixDisplay.from_predictions or ConfusionMatrixDisplay.from_estimator.\n",
            "\n"
          ]
        },
        {
          "output_type": "execute_result",
          "data": {
            "text/plain": [
              "Text(0.5, 1.0, 'Confusion Matrix')"
            ]
          },
          "metadata": {},
          "execution_count": 53
        },
        {
          "output_type": "display_data",
          "data": {
            "text/plain": [
              "<Figure size 432x288 with 2 Axes>"
            ],
            "image/png": "[encoded data removed]"
          },
          "metadata": {
            "needs_background": "light"
          }
        }
      ]
    }
  ]
}